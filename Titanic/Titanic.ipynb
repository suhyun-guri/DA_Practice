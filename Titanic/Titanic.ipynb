{
 "cells": [
  {
   "cell_type": "markdown",
   "metadata": {
    "_cell_guid": "4b8a486e-1593-4e9e-9413-bc94d5a185b2",
    "_uuid": "027165e2-b97e-4313-8f26-b2048c22e0ba",
    "id": "VsPXWnIkTwIW"
   },
   "source": [
    "# Titanic Challenge\n",
    "\n",
    "[캐글 타이타닉 챌린지](https://kaggle.com/c/titanic)\n",
    "\n",
    "[판다스 기초정리 - 문범우](https://doorbw.tistory.com/172)\n",
    "\n"
   ]
  },
  {
   "cell_type": "markdown",
   "metadata": {
    "_cell_guid": "84c28543-f1e0-4cc6-bbf0-888235b95e54",
    "_uuid": "86c93516-1ed8-46eb-8a78-8e884cb60eeb",
    "id": "C_ZkO77nTwIX"
   },
   "source": [
    "![](https://i.imgur.com/rRFchA8.png)"
   ]
  },
  {
   "cell_type": "markdown",
   "metadata": {
    "id": "JloqgaOsxV7O"
   },
   "source": [
    "# 타이타닉 데이터 준비\n"
   ]
  },
  {
   "cell_type": "markdown",
   "metadata": {
    "id": "jmqanMRR33-H"
   },
   "source": [
    "## 1. 모듈(판다스와 넘파이) 임포트 하기"
   ]
  },
  {
   "cell_type": "code",
   "execution_count": null,
   "metadata": {
    "_cell_guid": "2b9c6525-9e52-410f-b319-b73e1e16c73b",
    "_uuid": "b0e2e703-1a41-443d-9b5b-480d449db1de",
    "id": "4rJHXZbOTwIZ"
   },
   "outputs": [],
   "source": [
    "import numpy as np\n",
    "import pandas as pd\n",
    "\n",
    "# 시각화를 위한 모듈\n",
    "import matplotlib.pyplot as plt\n",
    "%matplotlib inline\n",
    "import seaborn as sns\n",
    "plt.style.use('seaborn-whitegrid')\n",
    "import missingno\n",
    "\n",
    "# 너무 많이 발생하는 경고들을 제거\n",
    "import sys\n",
    "import warnings\n",
    "warnings.filterwarnings('ignore')\n",
    "\n"
   ]
  },
  {
   "cell_type": "markdown",
   "metadata": {
    "_cell_guid": "5da405e1-0b35-458b-b21c-8dbca574dc96",
    "_uuid": "9bdc9600-80b9-4c5c-b1df-d4068985d83c",
    "id": "eV5JorjRTwId"
   },
   "source": [
    "## 2. CSV 파일로 부터 데이터프레임 얻기"
   ]
  },
  {
   "cell_type": "markdown",
   "metadata": {
    "id": "HVC-NkvKt961"
   },
   "source": [
    "### 코랩 위젯을 이용하여 파일 업로드\n",
    "\n",
    "* test.csv 파일과 train.csv 파일을 업로드 한다."
   ]
  },
  {
   "cell_type": "code",
   "execution_count": null,
   "metadata": {
    "id": "wCgYVGk7oLo4"
   },
   "outputs": [],
   "source": [
    "#from google.colab import files\n",
    "#uploaded = files.upload()"
   ]
  },
  {
   "cell_type": "markdown",
   "metadata": {
    "id": "Ky0kSzgFwJec"
   },
   "source": [
    "### 데이터프레임 생성하기"
   ]
  },
  {
   "cell_type": "code",
   "execution_count": null,
   "metadata": {
    "id": "lDRTrK9rX65n"
   },
   "outputs": [],
   "source": [
    "train = pd.read_csv('train.csv')\n",
    "test = pd.read_csv('test.csv')\n",
    "\n",
    "print(train)\n",
    "print(test)"
   ]
  },
  {
   "cell_type": "markdown",
   "metadata": {
    "_cell_guid": "5472c06a-e6a5-4a27-9049-5af82ecc2cc2",
    "_uuid": "5b9d444f-4b43-4b08-a052-80fa235f4c8a",
    "id": "iF15ywIzTwIj"
   },
   "source": [
    "## 3. 데이터프레임 다루기"
   ]
  },
  {
   "cell_type": "markdown",
   "metadata": {
    "id": "QTsHpxuJz5IY"
   },
   "source": [
    "### `shape` 을 이용하여 train의 행과 열의 개수 구하기"
   ]
  },
  {
   "cell_type": "code",
   "execution_count": null,
   "metadata": {
    "id": "mnCztPFo0F1r"
   },
   "outputs": [],
   "source": [
    " train.shape"
   ]
  },
  {
   "cell_type": "markdown",
   "metadata": {
    "_cell_guid": "ac32f23f-1bd4-468e-9441-b1e47419c648",
    "_uuid": "e2c7d4d4-ab5a-4275-b85b-b2e641598ed7",
    "id": "YFhFjLClTwIj"
   },
   "source": [
    "### train 데이터프레임에서 첫 5행을 출력\n",
    "\n",
    "`head()` 이용"
   ]
  },
  {
   "cell_type": "code",
   "execution_count": null,
   "metadata": {
    "_cell_guid": "0259dfab-e239-43da-a1c8-dab9089ed96f",
    "_uuid": "7dfc196d-9ba7-4745-b2b7-f9f10fc351dc",
    "id": "oPxzZrrSTwIk"
   },
   "outputs": [],
   "source": [
    "train.head()"
   ]
  },
  {
   "cell_type": "markdown",
   "metadata": {
    "_cell_guid": "9e6dfbcc-1a21-4814-8c88-57183d4bfea7",
    "_uuid": "2899ee0a-1fef-40e0-9a46-cc0c3e518129",
    "id": "CNMD7gr3TwIn"
   },
   "source": [
    "### train 데이터프레임에서 마지막 5행을 출력\n",
    "\n",
    "`tail()` 이용"
   ]
  },
  {
   "cell_type": "code",
   "execution_count": null,
   "metadata": {
    "_cell_guid": "65d8d1e2-034a-4997-b0f8-73f9c04abede",
    "_uuid": "b6b7c50f-d224-46df-9250-1fb1030208b2",
    "id": "C7RUM_k_TwIn"
   },
   "outputs": [],
   "source": [
    "train.tail()"
   ]
  },
  {
   "cell_type": "markdown",
   "metadata": {
    "_cell_guid": "5a376513-9e48-4747-b9ee-8cb43692fd8c",
    "_uuid": "0cbcaa88-8b06-4338-b330-e1a3c97058dd",
    "id": "qD4uqD83TwIq"
   },
   "source": [
    "### train의 통계치 얻어내기\n",
    "\n",
    "`describe()` 은 각 열의 통계적인 면을 보여 준다.\n",
    "\n",
    "`include='all'` 인자를 추가하면, 연속형 데이터가 아닌 경우에도 보여준다."
   ]
  },
  {
   "cell_type": "code",
   "execution_count": null,
   "metadata": {
    "_cell_guid": "9f3aa6b2-f74c-46df-95ec-7fd524a34093",
    "_uuid": "7067dff1-b856-4d2a-aded-28343e75198f",
    "id": "VqF_mA2KTwIq"
   },
   "outputs": [],
   "source": [
    "train.describe(include='all')"
   ]
  },
  {
   "cell_type": "markdown",
   "metadata": {
    "_cell_guid": "60be6a77-a2d2-446e-8aee-29412a25be5e",
    "_uuid": "acd0541f-3c58-4699-a728-733a5370db0d",
    "id": "4jyI3aaYTwIt"
   },
   "source": [
    "### train의 모든열의 데이터 종류 알아내기\n",
    "\n",
    "`dtypes` 모든 열의 데이터 종류를 보여준다."
   ]
  },
  {
   "cell_type": "code",
   "execution_count": null,
   "metadata": {
    "_cell_guid": "87b12356-eec5-4ff2-86b0-534b984742e2",
    "_uuid": "cd3238fa-22a7-4d2b-9e56-29ea5bbee40c",
    "id": "z4tim6PNTwIu"
   },
   "outputs": [],
   "source": [
    "train.dtypes"
   ]
  },
  {
   "cell_type": "markdown",
   "metadata": {
    "_cell_guid": "bd30e0d1-652a-440d-9da5-29dc5f0d8546",
    "_uuid": "bac2dbf4-8cb6-4989-9629-fbbc7051197d",
    "id": "SYLK6vp8TwIw"
   },
   "source": [
    "### info() 사용해 보기\n",
    "`info()` 는 `dtypes` 의 좀  더 발전된 개념으로 데이터 타입뿐만 아니라 비어있지 않는 개수도 함께 보여준다.\n",
    "\n"
   ]
  },
  {
   "cell_type": "code",
   "execution_count": null,
   "metadata": {
    "_cell_guid": "08dc36bc-7f67-4463-8999-f1cdfa9783b3",
    "_uuid": "95a9aebd-1100-4541-b35f-997780dc8710",
    "id": "KhINxX9jTwIw"
   },
   "outputs": [],
   "source": [
    "train.info()"
   ]
  },
  {
   "cell_type": "markdown",
   "metadata": {
    "_cell_guid": "d82c7ac5-c95c-4539-9b9f-4e86aec8eb43",
    "_uuid": "9ccce62b-003b-4646-9c55-1db47bcef89e",
    "id": "PzKd12d3TwI2"
   },
   "source": [
    "### train의 모든 열의 이름을 구하기\n",
    "`columns`은 데이터 프레임의 열의 이름들을 보여준다."
   ]
  },
  {
   "cell_type": "code",
   "execution_count": null,
   "metadata": {
    "_cell_guid": "a3d4b863-a399-4b88-9405-479de30079c5",
    "_uuid": "10a6222d-f9cc-4d02-a4fa-a0956eb482e4",
    "id": "fjeIVtCITwI3"
   },
   "outputs": [],
   "source": [
    "train.columns"
   ]
  },
  {
   "cell_type": "markdown",
   "metadata": {
    "_cell_guid": "afc7ae4c-31c2-4e7d-9966-db51a619eeed",
    "_uuid": "41ddde82-b3c0-4d20-8c8e-9474a8070214",
    "id": "eqvOPNZyTwI5"
   },
   "source": [
    "[참고: numpy array indexing](https://www.w3schools.com/python/numpy_array_indexing.asp)\n"
   ]
  },
  {
   "cell_type": "code",
   "execution_count": null,
   "metadata": {
    "_cell_guid": "38eb31be-01f6-428d-9d98-27b2b5835438",
    "_uuid": "03254b34-2428-45c5-a320-890f9df0fa69",
    "id": "rrLpFDd7TwI5"
   },
   "outputs": [],
   "source": [
    "train.columns[3:5]"
   ]
  },
  {
   "cell_type": "markdown",
   "metadata": {
    "_cell_guid": "9a4e74fe-dd61-4614-83dc-b0e285ba8bec",
    "_uuid": "ed9177a5-6875-42a2-a0d9-d1498d19d476",
    "id": "QylHtGm1TwI7"
   },
   "source": [
    "### 10번 행 부터 20번 행까지 인덱싱하기"
   ]
  },
  {
   "cell_type": "code",
   "execution_count": null,
   "metadata": {
    "_cell_guid": "6ae03c5a-3f26-4047-8cf7-87319b4223b3",
    "_uuid": "535d377f-8a9b-4302-bb1a-2a544e6db934",
    "id": "bsrz16s5TwI8"
   },
   "outputs": [],
   "source": [
    "train.iloc[10:21]"
   ]
  },
  {
   "cell_type": "markdown",
   "metadata": {
    "id": "U-Ouo2rHApOQ"
   },
   "source": [
    "### \"Name\", \"Sex\", \"Age\" 열만 가져오기"
   ]
  },
  {
   "cell_type": "code",
   "execution_count": null,
   "metadata": {
    "id": "WZg_Jx3AAYkH"
   },
   "outputs": [],
   "source": [
    "train[[\"Name\", \"Sex\", \"Age\"]]"
   ]
  },
  {
   "cell_type": "markdown",
   "metadata": {
    "id": "W6TRipr-2yCt"
   },
   "source": [
    "### 30세 이상의 남성만 가져오기\n",
    "\n",
    "* [참고: DataFrame 필터링과 편집](https://wikidocs.net/46753)\n"
   ]
  },
  {
   "cell_type": "code",
   "execution_count": null,
   "metadata": {
    "id": "uBiBODWk2B7e"
   },
   "outputs": [],
   "source": [
    "train[(train[\"Age\"] >= 30) & (train[\"Sex\"] == \"male\")]"
   ]
  },
  {
   "cell_type": "markdown",
   "metadata": {
    "id": "JuRPYnZAvkjx"
   },
   "source": [
    "# 탐색적 데이터 분석\n"
   ]
  },
  {
   "cell_type": "markdown",
   "metadata": {
    "id": "E_6ZLCXvx872"
   },
   "source": [
    "## 1. train 데이터와 test 데이터 합치기\n",
    "\n",
    "* 데이터의 속성을 추가하거나 수정하여 새로운 속성을 만들기 위해 두 데이터를 합친다.\n",
    "    1. train 의 크기와 test의 크기를 따로 저장해 둔다.\n",
    "    1. y_train에는 train의 class 값들을 따로 저장해 둔다.\n",
    "    1. passID 에는 test 데이터의 승객 아이디를 저장해 두었다가, 최종 결과를 만들 때 사용한다.\n",
    "    1. train과 test를 합쳐서 data 를 만든다.\n"
   ]
  },
  {
   "cell_type": "code",
   "execution_count": null,
   "metadata": {
    "id": "YBWzZT8Qx0yM"
   },
   "outputs": [],
   "source": [
    "# train과 test 의 크기를 저장한다.\n",
    "ntrain = train.shape[0]\n",
    "ntest = test.shape[0]\n",
    "\n",
    "# train 의 class 값과 test의 승객 아이디를 저장해둔다.\n",
    "y_train = train['Survived'].values\n",
    "passId = test['PassengerId']\n",
    "\n",
    "# train과 test를 합친다\n",
    "data = pd.concat((train, test))\n",
    "\n",
    "# 전체 데이터의 크기를 출력한다.\n",
    "print(f\"data size is: {data.shape}\")\n"
   ]
  },
  {
   "cell_type": "markdown",
   "metadata": {
    "id": "7uvyPI0hyf-b"
   },
   "source": [
    ".value_counts()를 이용하여 train 데이터에서 몇명이 죽었고 몇명이 살았는지 확인해 본다.\n"
   ]
  },
  {
   "cell_type": "code",
   "execution_count": null,
   "metadata": {
    "id": "dLYd9oDiyct8"
   },
   "outputs": [],
   "source": [
    "train['Survived'].value_counts()"
   ]
  },
  {
   "cell_type": "markdown",
   "metadata": {
    "id": "SlQkTY39zBWl"
   },
   "source": [
    "## 2. 결측치(missing value) 확인하기\n",
    "\n",
    "`missingno.matrix()` 를 이용하여 데이터가 얼마나 비어 있는지 그래프로 확인한다.\n",
    "\n",
    "[참고: missingno 를 이용하여 결측치 살펴보기](https://m.blog.naver.com/PostView.nhn?blogId=youji4ever&logNo=221623491491&proxyReferer=https:%2F%2Fwww.google.com%2F)\n"
   ]
  },
  {
   "cell_type": "code",
   "execution_count": null,
   "metadata": {
    "id": "fSGUzH6nzM78"
   },
   "outputs": [],
   "source": [
    "missingno.matrix(data, figsize = (14,8))"
   ]
  },
  {
   "cell_type": "markdown",
   "metadata": {
    "id": "M8gAtOBwzyCb"
   },
   "source": [
    "`.isnull().sum()` 비어 있는 값들의 개수를 컬럼별로 확인해보기\n"
   ]
  },
  {
   "cell_type": "code",
   "execution_count": null,
   "metadata": {
    "id": "WgQrkUTiz4JQ"
   },
   "outputs": [],
   "source": [
    "data.isnull().sum() #비어 있는 값들을 체크해 본다."
   ]
  },
  {
   "cell_type": "markdown",
   "metadata": {
    "id": "5e89QqCl0BaG"
   },
   "source": [
    ".isnull().any() 하나라도 결손값이 있는 지 모든 컬럼을 확인하기\n"
   ]
  },
  {
   "cell_type": "code",
   "execution_count": null,
   "metadata": {
    "id": "P5Rbm_UPz-GC"
   },
   "outputs": [],
   "source": [
    "data.isnull().any()"
   ]
  },
  {
   "cell_type": "markdown",
   "metadata": {
    "id": "QjKhBbL10RY2"
   },
   "source": [
    "## 3. 속성의 의미 확인\n",
    "\n",
    "[캐글 타이타닉 컬럼 설명 링크](https://www.kaggle.com/c/titanic/data)\n",
    "\n",
    "\n",
    "          Variable          정의                Key\n",
    "\n",
    "          Survival          생존 여부            0 = No, 1 = Yes\n",
    "\n",
    "          Pclass            선실 등급            1 = 1st, 2 = 2nd, 3 = 3rd\n",
    "\n",
    "          Sex               성별    \n",
    "\n",
    "          Age               나이  \n",
    "\n",
    "          Sibsp             형재 자매의 수 + 배우자 수\n",
    "\n",
    "          Parch             부모 수 + 자식 수\n",
    "\n",
    "          Ticket            표 번호    \n",
    "\n",
    "          Fare              요금\n",
    "\n",
    "          Cabin             선실 번호   \n",
    "\n",
    "          Embarked          승선한 항구         C = Cherbourg, Q = Queenstown, S = Southampton\n",
    "\n",
    "\n",
    "### 데이터의 분류 \n",
    "* 데이터의 속성에 따라\n",
    "    1. 양적\n",
    "        - 연속형: 키, 몸무게, ...\n",
    "        - 이산형: 불량품 수, 성공 횟수, ...\n",
    "    1. 질적(범주형): 성공 유무, 생존여부, ...\n",
    "* 측정 수준에 따라\n",
    "    1. 비율척도: 키, 몸무게, 길이 넓이\n",
    "    1. 등간척도: 연령대, 등간격 소득 수준\n",
    "    1. 순서척도: 등수, 평점\n",
    "    1. 명목척도: 성별, 지역, 상품종류\n",
    "\n",
    "### 타이타닉 데이터 속성 분류\n",
    "* 질적 데이터 속성: Sex, Embark, Name, Ticket\n",
    "* 순서척도 속성(정렬이 가능하다): PClass, Carbin\n",
    "* 연속형 속성: Age, SipSp, Parch, Fare\n",
    "    * 연속형 속성은 등간척도 속성으로 변환 시킬 수도 있다.\n",
    "\n"
   ]
  },
  {
   "cell_type": "markdown",
   "metadata": {
    "id": "ByfcjG_V1Vh9"
   },
   "source": [
    "## 4. 속성들의 상관관계 살펴보기\n",
    "\n",
    "* 상관관계 행렬을 이용하여 변수들간의 상관 계수를 살펴볼 수 있다. 속성들 간의 관계를 분석하는데 힌트를 얻을 수 있고, 전체 데이터를 요약하는데에도 사용된다.\n",
    "\n",
    "참고: https://seaborn.pydata.org/examples/many_pairwise_correlations.html\n"
   ]
  },
  {
   "cell_type": "markdown",
   "metadata": {
    "id": "H07ue9dd2JTK"
   },
   "source": [
    "### 상관관계 행렬 그리기\n",
    "\n",
    "* [히트맵](https://seaborn.pydata.org/generated/seaborn.heatmap.html) \n",
    "\n",
    "* [판다스 코릴레이션 매트릭스](https://pandas.pydata.org/pandas-docs/stable/reference/api/pandas.DataFrame.corr.html)  \n",
    "\n",
    "* [씨본 콜릴레이션 히트맵](https://seaborn.pydata.org/generated/seaborn.heatmap.html)"
   ]
  },
  {
   "cell_type": "code",
   "execution_count": null,
   "metadata": {
    "id": "HvJNIaEuz_xY"
   },
   "outputs": [],
   "source": [
    "corr = data.corr()\n",
    "plt.figure(figsize=(14, 8))\n",
    "plt.title('Overall Correlation of Titanic Features', fontsize=18)\n",
    "sns.heatmap(corr, annot=True, vmin=-1, vmax=1, center=0) \n",
    "plt.show()"
   ]
  },
  {
   "cell_type": "markdown",
   "metadata": {
    "id": "eHVPHdPG3FC4"
   },
   "source": [
    "## 5. 종속변수 분석\n",
    "\n",
    "Survived - Key: (0 - Not Survived, 1- Survived)\n",
    "\n",
    "Survived는 숫자로 주어지지만, 범주형 속성이다. \n",
    "\n",
    "범주형인경우 countplot를 그려보면 데이터의 분포를 쉽게 눈으로 확인 할 수 있다.\n",
    "\n",
    "\n"
   ]
  },
  {
   "cell_type": "code",
   "execution_count": null,
   "metadata": {
    "id": "uYs4CV3t3Yq2"
   },
   "outputs": [],
   "source": [
    "f,ax=plt.subplots(figsize=(6, 6))\n",
    "ax.set_title('Survived')\n",
    "sns.countplot('Survived',data=train, ax=ax)\n",
    "ax.set_title('Survived')\n",
    "plt.show()"
   ]
  },
  {
   "cell_type": "markdown",
   "metadata": {
    "id": "nvbDm5pD33jS"
   },
   "source": [
    "## 6. 독립변수 분석\n"
   ]
  },
  {
   "cell_type": "markdown",
   "metadata": {
    "id": "z0htEEjOI4Lf"
   },
   "source": [
    "### data 복사\n",
    "\n",
    "* 데이터가 안전하게 유지될 수 있도록 복사하여 temp를 만다.\n",
    "* temp에 새로운 속성을 추가 할 수 있다.\n"
   ]
  },
  {
   "cell_type": "code",
   "execution_count": null,
   "metadata": {
    "id": "d4tKtPOAJWn6"
   },
   "outputs": [],
   "source": [
    "temp = data.copy()"
   ]
  },
  {
   "cell_type": "markdown",
   "metadata": {
    "id": "QDP7juvG4NN9"
   },
   "source": [
    "### \"Pclass\" 분석\n",
    "\n",
    "* Pclass는 값이 숫자이나 순서(서열)가 있는 값이다.\n",
    "* Key:1 = 1st, 2= 2nd, 3 = 3rd\n",
    "* Pclass의 값에 따라 생존이 어떻게 달라졌는지 살펴본다.\n",
    "\n",
    "참고: [groupby() 사용법](https://jjangjjong.tistory.com/7)"
   ]
  },
  {
   "cell_type": "markdown",
   "metadata": {
    "id": "h4sl6lPy5xpF"
   },
   "source": [
    "`groupby()` 를 이용하여 Pclass 별로 생존/사망한 사람 수를 구하기"
   ]
  },
  {
   "cell_type": "code",
   "execution_count": null,
   "metadata": {
    "id": "BfteSTS94FCJ"
   },
   "outputs": [],
   "source": [
    "train.groupby(['Pclass','Survived'])['Survived'].count()"
   ]
  },
  {
   "cell_type": "markdown",
   "metadata": {
    "id": "zm2z_vrs6Hjs"
   },
   "source": [
    "`groupby()` 를 이용하여 Pclass 별로 생존 비율 구하기"
   ]
  },
  {
   "cell_type": "code",
   "execution_count": null,
   "metadata": {
    "id": "bk57dAOv4aIG"
   },
   "outputs": [],
   "source": [
    "train.groupby(['Pclass'])['Survived'].mean()"
   ]
  },
  {
   "cell_type": "markdown",
   "metadata": {
    "id": "g81WTWluF4bt"
   },
   "source": [
    "`pd.crosstab()` 을 이용하여 빈도표 만들기\n",
    "\n",
    "참고: [pandas crosstab](https://pandas.pydata.org/pandas-docs/stable/reference/api/pandas.crosstab.html)"
   ]
  },
  {
   "cell_type": "code",
   "execution_count": null,
   "metadata": {
    "id": "Cg_ebyHS-Xhf"
   },
   "outputs": [],
   "source": [
    "pd.crosstab(train.Pclass, train.Survived, margins=True).style.background_gradient(cmap='summer_r')"
   ]
  },
  {
   "cell_type": "markdown",
   "metadata": {
    "id": "86TSSwYn9Xd4"
   },
   "source": [
    "아래 함수를 이용하여 \"Pclass\"의 생존률 그래프와 생존자/사망자 수를 그리기\n"
   ]
  },
  {
   "cell_type": "code",
   "execution_count": null,
   "metadata": {
    "id": "HhwwSy-i5MIh"
   },
   "outputs": [],
   "source": [
    "def plot_pct_counts(col, target, data):\n",
    "    f,ax=plt.subplots(1,2,figsize=(12,5))\n",
    "    data.groupby([col])[target].mean().plot(kind='bar', ax=ax[0])\n",
    "    ax[0].set_title(f\"{target} percent by {col}\")\n",
    "    sns.countplot(col, hue=target, data=data, ax=ax[1])\n",
    "    ax[1].set_title(f\"{target} counts by {col}\")\n",
    "    ax[1].set_xticklabels(ax[1].get_xticklabels(), rotation=90)\n",
    "    plt.show()\n",
    "    "
   ]
  },
  {
   "cell_type": "code",
   "execution_count": null,
   "metadata": {
    "id": "Tv4-IxDl9pPQ"
   },
   "outputs": [],
   "source": [
    "plot_pct_counts(\"Pclass\", \"Survived\", train)"
   ]
  },
  {
   "cell_type": "markdown",
   "metadata": {
    "id": "ZJOVzGclAQ40"
   },
   "source": [
    "### \"Sex\" 분석"
   ]
  },
  {
   "cell_type": "markdown",
   "metadata": {
    "id": "knT1BuGhHCcb"
   },
   "source": [
    "생존률 그래프와 생존자/사망자 수를 그리기"
   ]
  },
  {
   "cell_type": "code",
   "execution_count": null,
   "metadata": {
    "id": "SRSHlvFG9-X_"
   },
   "outputs": [],
   "source": [
    "plot_pct_counts(\"Sex\", \"Survived\", train)"
   ]
  },
  {
   "cell_type": "markdown",
   "metadata": {
    "id": "Q5AIMxHvG0hD"
   },
   "source": [
    "빈도수 데이블 그리기"
   ]
  },
  {
   "cell_type": "code",
   "execution_count": null,
   "metadata": {
    "id": "qQRRZmXhFvyg"
   },
   "outputs": [],
   "source": [
    "pd.crosstab([train.Sex, train.Survived],train.Pclass,margins=True).style.background_gradient(cmap='summer_r')"
   ]
  },
  {
   "cell_type": "markdown",
   "metadata": {
    "id": "DMcLLZYjIAsD"
   },
   "source": [
    "### \"Name\" 분석\n",
    "* 이름 분석은 굉장히 많은 경우의 수가 있을 수 있다.\n",
    "* 아마도 겹치는 이름이 거의 없을 것으로 예상 할 수 있다.\n",
    "* 이름에서 의미를 가지는 부분 예) Miss, Mr 등을 따로 처리 해줄 필요가 있다.\n",
    "    * Mr. Miss. 등과 같이 `.`으로 끝나는 단어는 의미가 있을 것으로 추정 할 수 있다.\n",
    "    * 정규식을 이용하여 `.`으로 끝나는 단어를 분리해 낼 수 있다.\n",
    "\n",
    "    * 분리한 부분을 ['Initial']이란 새로운 속성으로 저장한다.\n",
    "\n",
    "    * Mr. Miss. Mrs. 등과 같이 `.`으로 끝나는 단어를 분리하는 정규식은 `([A-Za-z]+)\\.` 이다.\n",
    "    str.extract((\"뽑아낼 정규식\"))\n",
    "    [ ] 대괄호는 한글자 (or관계), + : 한 글자 이상\n",
    "     \n",
    "     [A-Za-z]+ : 대문자 혹은 소문자로 구성된 하나의 글자\n",
    "\n",
    "참고: [정규식](https://wikidocs.net/4308)"
   ]
  },
  {
   "cell_type": "code",
   "execution_count": null,
   "metadata": {
    "id": "D5JTyqoJ_unc"
   },
   "outputs": [],
   "source": [
    "data.Name.value_counts()"
   ]
  },
  {
   "cell_type": "markdown",
   "metadata": {
    "id": "gESQW430J1o-"
   },
   "source": [
    "temp 데이터프레임에 승객의 이름에서 호칭(Mr, Miss, Dr 등)을 추출하여 \"Initial\" 속성으로 추가한다.\n",
    "\n",
    "\"Initial\"의 빈도수를 살펴본다."
   ]
  },
  {
   "cell_type": "code",
   "execution_count": null,
   "metadata": {
    "id": "4BA8cR8iIN3u"
   },
   "outputs": [],
   "source": [
    "temp = data.copy()\n",
    "temp['Initial'] = data.Name.str.extract('([A-Za-z]+)\\.')\n",
    "temp['Initial'].value_counts()"
   ]
  },
  {
   "cell_type": "code",
   "execution_count": null,
   "metadata": {
    "id": "8iHpO5cHJ7bE"
   },
   "outputs": [],
   "source": [
    "pd.crosstab(temp.Initial, temp.Sex).T.style.background_gradient(cmap='summer_r')"
   ]
  },
  {
   "cell_type": "code",
   "execution_count": null,
   "metadata": {
    "id": "Udmh5KgrKrFO"
   },
   "outputs": [],
   "source": [
    "plot_pct_counts(\"Initial\", \"Survived\", temp)"
   ]
  },
  {
   "cell_type": "markdown",
   "metadata": {
    "id": "MDStrDqZAiaj"
   },
   "source": [
    "이니셜을 정리하여 단순화 시킨다.\n"
   ]
  },
  {
   "cell_type": "code",
   "execution_count": null,
   "metadata": {
    "id": "8VvQK5eL8d2i"
   },
   "outputs": [],
   "source": [
    "initial_dict = {\n",
    "    \"Dr\":\"Other\",\n",
    "    \"Rev\":\"Other\",\n",
    "    \"Col\":\"Other\",\n",
    "    \"Ms\":\"Miss\",\n",
    "    \"Major\":\"Other\",         \n",
    "    \"Mlle\":\"Nobles\",\n",
    "    \"Countess\":\"Nobles\",\n",
    "    \"Lady\":\"Other\",\n",
    "    \"Capt\":\"Other\",\n",
    "    \"Sir\":\"Nobles\",\n",
    "    \"Don\":\"Mr\",\n",
    "    \"Jonkheer\":\"Mr\",\n",
    "    \"Dona\":\"Mrs\",\n",
    "    \"Mme\":\"Nobles\",\n",
    "}\n",
    "\n",
    "temp['Initial'].replace(initial_dict.keys(), initial_dict.values(), inplace=True)\n",
    "pd.crosstab(temp.Initial,temp.Sex).T.style.background_gradient(cmap='summer_r')"
   ]
  },
  {
   "cell_type": "markdown",
   "metadata": {
    "id": "B7tcBdirA4R3"
   },
   "source": [
    "\"Name\"에서 lastname을 추출하여 \"LastName\" 속성을 만든다."
   ]
  },
  {
   "cell_type": "code",
   "execution_count": null,
   "metadata": {
    "id": "TZOFHHVaMoxw"
   },
   "outputs": [],
   "source": [
    "temp['LastName'] = data.Name.str.extract('^([A-Za-z]+)')"
   ]
  },
  {
   "cell_type": "code",
   "execution_count": null,
   "metadata": {
    "id": "oMB9_dMDLZ5l"
   },
   "outputs": [],
   "source": [
    "pd.crosstab(temp.LastName, temp.Survived).T.style.background_gradient(cmap='summer_r')"
   ]
  },
  {
   "cell_type": "markdown",
   "metadata": {
    "id": "lwE9ieNPPZmf"
   },
   "source": [
    "\"LastName\"을 전부 숫자로 바꾼다."
   ]
  },
  {
   "cell_type": "code",
   "execution_count": null,
   "metadata": {
    "id": "wOp4UzvGM3vb"
   },
   "outputs": [],
   "source": [
    "temp['NumName'] = temp['LastName'].factorize()[0]"
   ]
  },
  {
   "cell_type": "code",
   "execution_count": null,
   "metadata": {
    "id": "gVa1HGcAOr_Q"
   },
   "outputs": [],
   "source": [
    "pd.crosstab(temp.NumName, temp.Survived).T.style.background_gradient(cmap='summer_r')"
   ]
  },
  {
   "cell_type": "markdown",
   "metadata": {
    "id": "ZIeSAcUSQxOF"
   },
   "source": [
    "### \"Age\" 분석\n",
    "\n",
    "* Age 는 결측치가 가장 많은 속성이기 때문에, 결측치를 잘 채워넣는 것이 분석의 핵심이다."
   ]
  },
  {
   "cell_type": "markdown",
   "metadata": {
    "id": "fpP3OFmtRHHW"
   },
   "source": [
    "`describe()` \"Age\"의 기본 통계값을 살펴본다."
   ]
  },
  {
   "cell_type": "code",
   "execution_count": null,
   "metadata": {
    "id": "GrgdO0ntPuNL"
   },
   "outputs": [],
   "source": [
    "data['Age'].describe()"
   ]
  },
  {
   "cell_type": "markdown",
   "metadata": {
    "id": "rglNNdT_BW7I"
   },
   "source": [
    "\"Age\"에 대해서 swarmplot 을 그려본다."
   ]
  },
  {
   "cell_type": "code",
   "execution_count": null,
   "metadata": {
    "id": "rboqKaf7QXRE"
   },
   "outputs": [],
   "source": [
    "sns.swarmplot(x=train['Survived'], y=train['Age'])\n",
    "plt.xlabel(\"Survived\")\n",
    "plt.ylabel(\"Age\")\n",
    "plt.show()"
   ]
  },
  {
   "cell_type": "markdown",
   "metadata": {
    "id": "dyN3B1lhBlvN"
   },
   "source": [
    "\"Age\"에 대해서 violinplot 을 그려본다."
   ]
  },
  {
   "cell_type": "code",
   "execution_count": null,
   "metadata": {
    "id": "76ntMg0yRW7x"
   },
   "outputs": [],
   "source": [
    "f, ax = plt.subplots(1,2,figsize=(18,8))\n",
    "sns.violinplot(\"Pclass\", \"Age\", hue=\"Survived\", data=train, split=True, ax=ax[0])\n",
    "ax[0].set_title('Pclass and Age vs Survived')\n",
    "ax[0].set_yticks(range(0, 110, 10))\n",
    "sns.violinplot(\"Sex\",\"Age\", hue=\"Survived\", data=train, split=True, ax=ax[1])\n",
    "ax[1].set_title('Sex and Age vs Survived')\n",
    "ax[1].set_yticks(range(0, 110, 10))\n",
    "plt.show()"
   ]
  },
  {
   "cell_type": "markdown",
   "metadata": {
    "id": "eldXmpJDSjEn"
   },
   "source": [
    "#### \"Age\"의 결측치 채우기\n",
    "\n",
    "* 이니셜의 평균 연령으로 결측치를 채운다.\n",
    "\n"
   ]
  },
  {
   "cell_type": "code",
   "execution_count": null,
   "metadata": {
    "id": "5AWSA5ELRiyx"
   },
   "outputs": [],
   "source": [
    "temp.groupby('Initial').agg({'Age': ['mean', 'count']}) #이니셜 별 평균 연령 체크"
   ]
  },
  {
   "cell_type": "code",
   "execution_count": null,
   "metadata": {
    "id": "7HU5BscHSt6K"
   },
   "outputs": [],
   "source": [
    "# 비어 있는 \"Age\" 값을 이니셜의 평균으로 채운다.\n",
    "print(temp)\n",
    "temp['Age'] = temp.groupby('Initial')['Age'].apply(lambda x: x.fillna(x.mean())).reset_index(drop=True)\n",
    "temp"
   ]
  },
  {
   "cell_type": "code",
   "execution_count": null,
   "metadata": {
    "id": "tSnxp0VkOCwR"
   },
   "outputs": [],
   "source": []
  },
  {
   "cell_type": "markdown",
   "metadata": {
    "id": "SvrNu8GzbQbZ"
   },
   "source": [
    "### \"SibSp\" (형제/배우자), \"Parch\"(부모/자식) 분석\n",
    "\n",
    "* SibSp - 이 항목은 탑승자가 혼자인지 또는 가족과 함께 있는지를 나타낸다.\n",
    "    * Sibling = 형제, 자매, 의붓 형제, 이복 누이\n",
    "    * Spouse = 남편, 아내\n",
    "* Parch는 부모와 함께 탔는지를 봅니다.\n",
    "* 새로은 속성 추가\n",
    "    * \"Alone\" 혼자서 배를 탑승했는지 여부 0- 혼자 탑승, 1-가족과 같승\n",
    "    * \"FamilySize\" 가족의 명수"
   ]
  },
  {
   "cell_type": "code",
   "execution_count": null,
   "metadata": {
    "id": "oo2yEkYqZijm"
   },
   "outputs": [],
   "source": [
    "# 혼자 탔다면 \"Alone\" 값을 1로 수정한다.\n",
    "temp['Alone'] = 0\n",
    "temp.loc[(temp['SibSp'] == 0) & (temp['Parch'] == 0), 'Alone'] = 1"
   ]
  },
  {
   "cell_type": "code",
   "execution_count": null,
   "metadata": {
    "id": "W56Qfk_jccMu"
   },
   "outputs": [],
   "source": [
    "# 가족수를 구하여 \"FamilySize\" 속성 값으로 한다.\n",
    "temp['FamilySize'] = temp['Parch'] + temp['SibSp'] + 1"
   ]
  },
  {
   "cell_type": "code",
   "execution_count": null,
   "metadata": {
    "id": "XvLt5swIcdN9"
   },
   "outputs": [],
   "source": [
    "temp.head(n=10)"
   ]
  },
  {
   "cell_type": "code",
   "execution_count": null,
   "metadata": {
    "id": "-IP5-gC6cfGE"
   },
   "outputs": [],
   "source": [
    "# 가족수와 생존률 관계 살펴보기\n",
    "plot_pct_counts(\"FamilySize\", \"Survived\", temp)"
   ]
  },
  {
   "cell_type": "code",
   "execution_count": null,
   "metadata": {
    "id": "Ce69ZKkgc8Pt"
   },
   "outputs": [],
   "source": [
    "# 가족수와 생존/사망이 \"Pclass\"에 따른 빈도표 생성\n",
    "pd.crosstab([temp.FamilySize, temp.Survived], temp.Pclass, margins=True).style.background_gradient(cmap='summer_r')"
   ]
  },
  {
   "cell_type": "markdown",
   "metadata": {
    "id": "aqF3n-abfjsk"
   },
   "source": [
    "### \"Ticket\" 분석"
   ]
  },
  {
   "cell_type": "code",
   "execution_count": null,
   "metadata": {
    "id": "nv097Xh7fZw8"
   },
   "outputs": [],
   "source": [
    "temp[\"Ticket\"].head()"
   ]
  },
  {
   "cell_type": "markdown",
   "metadata": {
    "id": "YwHRBdpzD1Wn"
   },
   "source": [
    "\"Ticket\"의 첫 부분 추출"
   ]
  },
  {
   "cell_type": "code",
   "execution_count": null,
   "metadata": {
    "id": "w7hmA2feE6P2"
   },
   "outputs": [],
   "source": [
    "temp.Ticket.str.split(\" \").str[0]"
   ]
  },
  {
   "cell_type": "code",
   "execution_count": null,
   "metadata": {
    "id": "diTpiwqLfioU"
   },
   "outputs": [],
   "source": [
    "temp['Initick'] = temp[\"Ticket\"].str.split(\" \").str[0] #티켓의 첫 글자 가져오기.\n",
    "temp['NumTicket'] = temp['Initick'].factorize()[0]\n",
    "temp"
   ]
  },
  {
   "cell_type": "markdown",
   "metadata": {
    "id": "jw3CrB-aGNX_"
   },
   "source": [
    "### \"Fare\" 분석"
   ]
  },
  {
   "cell_type": "code",
   "execution_count": null,
   "metadata": {
    "id": "Y66e2TwIgnms"
   },
   "outputs": [],
   "source": [
    "f,ax=plt.subplots(1, 3, figsize=(20, 6))\n",
    "sns.distplot(train[train['Pclass'] == 1].Fare,ax=ax[0])\n",
    "ax[0].set_title('Fares in Pclass 1')\n",
    "sns.distplot(train[train['Pclass'] == 2].Fare,ax=ax[1])\n",
    "ax[1].set_title('Fares in Pclass 2')\n",
    "sns.distplot(train[train['Pclass'] == 3].Fare,ax=ax[2])\n",
    "ax[2].set_title('Fares in Pclass 3')\n",
    "plt.show()"
   ]
  },
  {
   "cell_type": "markdown",
   "metadata": {
    "id": "r7n5FuP05PQn"
   },
   "source": [
    "#### \"Fare\"의 결측치 채우기\n",
    "* \"Pclass\"의 평균을 이용하여 결측치를 채운다"
   ]
  },
  {
   "cell_type": "code",
   "execution_count": null,
   "metadata": {
    "id": "fsQtbyvp0UMs"
   },
   "outputs": [],
   "source": [
    "temp['Fare'] = temp.groupby('Pclass')['Fare'].apply(lambda x: x.fillna(x.mean())).reset_index(drop=True)"
   ]
  },
  {
   "cell_type": "markdown",
   "metadata": {
    "id": "qG50bfqAg88K"
   },
   "source": [
    "### \"Cabin\" 분석\n",
    "* cabin 의 위치에 따라 달라지는 것이 있는 지 살펴본다."
   ]
  },
  {
   "cell_type": "code",
   "execution_count": null,
   "metadata": {
    "id": "Ff56injdgpgj"
   },
   "outputs": [],
   "source": [
    "temp.Cabin.value_counts()"
   ]
  },
  {
   "cell_type": "code",
   "execution_count": null,
   "metadata": {
    "id": "azVQjcGQhHG4"
   },
   "outputs": [],
   "source": [
    "temp['Inicab'] = temp['Cabin'].str.extract('^([A-Za-z]+)')\n",
    "temp['Inicab'].value_counts()"
   ]
  },
  {
   "cell_type": "code",
   "execution_count": null,
   "metadata": {
    "id": "16nFij8fhXBr"
   },
   "outputs": [],
   "source": [
    "temp.Cabin.isnull().sum()"
   ]
  },
  {
   "cell_type": "markdown",
   "metadata": {
    "id": "XPAcpuk9-9FO"
   },
   "source": [
    "#### \"Cabin\" 결측치 채우기"
   ]
  },
  {
   "cell_type": "code",
   "execution_count": null,
   "metadata": {
    "id": "DAXBnfD7hjSi"
   },
   "outputs": [],
   "source": [
    "temp.loc[temp['Cabin'].isnull(), \"Inicab\"] = \"X\""
   ]
  },
  {
   "cell_type": "code",
   "execution_count": null,
   "metadata": {
    "id": "Jo4qhUeEh3v6"
   },
   "outputs": [],
   "source": [
    "temp['Inicab'].value_counts()"
   ]
  },
  {
   "cell_type": "markdown",
   "metadata": {
    "id": "BJLYDoaHiAkH"
   },
   "source": [
    "### \"Embarked\" 분석"
   ]
  },
  {
   "cell_type": "code",
   "execution_count": null,
   "metadata": {
    "id": "RGs2gH5Hh9Xa"
   },
   "outputs": [],
   "source": [
    "pd.crosstab([temp.Embarked, temp.Pclass], [temp.Sex, temp.Survived], margins=True).style.background_gradient(cmap='summer_r')"
   ]
  },
  {
   "cell_type": "code",
   "execution_count": null,
   "metadata": {
    "id": "8KLtdM4CiCea"
   },
   "outputs": [],
   "source": [
    "plot_pct_counts(\"Embarked\", \"Survived\", temp)"
   ]
  },
  {
   "cell_type": "markdown",
   "metadata": {
    "id": "ZGI3FSpU5m8v"
   },
   "source": [
    "#### \"Embarked\" 의 결측치를 채운다."
   ]
  },
  {
   "cell_type": "code",
   "execution_count": null,
   "metadata": {
    "id": "6NhkU6IxzokU"
   },
   "outputs": [],
   "source": [
    "temp.loc[temp['Embarked'].isnull(), \"Embarked\"] = \"X\""
   ]
  },
  {
   "cell_type": "code",
   "execution_count": null,
   "metadata": {
    "id": "rqyZABENQpLL"
   },
   "outputs": [],
   "source": [
    "temp['Embarked'].value_counts()"
   ]
  },
  {
   "cell_type": "markdown",
   "metadata": {
    "id": "rOugbkMSoAkS"
   },
   "source": [
    "# Feature Egineering\n"
   ]
  },
  {
   "cell_type": "markdown",
   "metadata": {
    "id": "DNYm2VjCo1cy"
   },
   "source": [
    "## Feature 를 선택"
   ]
  },
  {
   "cell_type": "code",
   "execution_count": null,
   "metadata": {
    "id": "9QRME_xDpzR2"
   },
   "outputs": [],
   "source": [
    "temp.head()"
   ]
  },
  {
   "cell_type": "code",
   "execution_count": null,
   "metadata": {
    "id": "_7A9C1EVo_cW"
   },
   "outputs": [],
   "source": [
    "selected_columns = [\"Initial\",\"Age\", \"NumName\", \"NumTicket\", \"FamilySize\", \"Embarked\", \"Sex\", \"Pclass\", \"Alone\", \"Fare\", \"Inicab\"]\n",
    "selected_columns"
   ]
  },
  {
   "cell_type": "markdown",
   "metadata": {
    "id": "hdKE1pw7ohoO"
   },
   "source": [
    "## Feature 인코딩"
   ]
  },
  {
   "cell_type": "code",
   "execution_count": null,
   "metadata": {
    "id": "LUe5L6X_kHaa"
   },
   "outputs": [],
   "source": [
    "from sklearn.preprocessing import LabelEncoder"
   ]
  },
  {
   "cell_type": "code",
   "execution_count": null,
   "metadata": {
    "id": "aDlo4lULosFZ"
   },
   "outputs": [],
   "source": [
    "df_en = temp[selected_columns].copy()"
   ]
  },
  {
   "cell_type": "code",
   "execution_count": null,
   "metadata": {
    "id": "ucdyp5lKzHE8"
   },
   "outputs": [],
   "source": [
    "# 결측치가 없는지 확인한다. 있다면 모든 결측치가 제거되어야 한다.\n",
    "df_en.info()"
   ]
  },
  {
   "cell_type": "markdown",
   "metadata": {
    "id": "clddVDLdzF_j"
   },
   "source": [
    "### 문자열이 값인 feature들에 대해서 Label 인코딩을 수행한다.\n",
    "* 모든 문자열이 정수로 치환된다."
   ]
  },
  {
   "cell_type": "code",
   "execution_count": null,
   "metadata": {
    "id": "OZExkJAkx931"
   },
   "outputs": [],
   "source": [
    "encoding_columns = [\"Initial\",\"Embarked\",\"Sex\",\"Inicab\"] #인코딩해야 할 컬럼들\n",
    "df_en[encoding_columns] = df_en[encoding_columns].apply(LabelEncoder().fit_transform)\n",
    "df_en"
   ]
  },
  {
   "cell_type": "markdown",
   "metadata": {
    "id": "W7gzit2NAon5"
   },
   "source": [
    "모든 컬럼들이 숫자형인지 확인"
   ]
  },
  {
   "cell_type": "code",
   "execution_count": null,
   "metadata": {
    "id": "t95llUejApsc"
   },
   "outputs": [],
   "source": [
    "df_en.info()"
   ]
  },
  {
   "cell_type": "markdown",
   "metadata": {
    "id": "lLVETKCOBeqa"
   },
   "source": [
    "# 머신러닝 모델 생성\n"
   ]
  },
  {
   "cell_type": "code",
   "execution_count": null,
   "metadata": {
    "id": "13hGjDmaBujG"
   },
   "outputs": [],
   "source": [
    "from sklearn.preprocessing import StandardScaler\n",
    "from sklearn.neighbors import KNeighborsClassifier\n",
    "from sklearn.linear_model import LogisticRegression\n",
    "from sklearn.ensemble import RandomForestClassifier\n",
    "from sklearn.svm import SVC\n",
    "from xgboost import XGBClassifier\n",
    "from sklearn.ensemble import GradientBoostingClassifier\n",
    "from sklearn.ensemble import ExtraTreesClassifier\n",
    "from sklearn.ensemble import AdaBoostClassifier\n",
    "from sklearn.gaussian_process import GaussianProcessClassifier\n",
    "from sklearn.naive_bayes import GaussianNB\n",
    "from sklearn.ensemble import BaggingClassifier\n",
    "from sklearn.ensemble import VotingClassifier\n",
    "\n",
    "from sklearn.model_selection import cross_val_score\n",
    "from sklearn.model_selection import GridSearchCV\n",
    "from sklearn.model_selection import cross_val_predict\n",
    "from sklearn import model_selection\n",
    "\n",
    "from statistics import mean #표준화"
   ]
  },
  {
   "cell_type": "markdown",
   "metadata": {
    "id": "O2qs6RKSCNti"
   },
   "source": [
    "## 1. 표준화된 train, test 만들기"
   ]
  },
  {
   "cell_type": "markdown",
   "metadata": {
    "id": "QSahjzt9DJUr"
   },
   "source": [
    "### Feature 들을 표준화 하기"
   ]
  },
  {
   "cell_type": "code",
   "execution_count": null,
   "metadata": {
    "id": "Zv1f_n1PCVIW"
   },
   "outputs": [],
   "source": [
    "scaler = StandardScaler()\n",
    "X_train = scaler.fit_transform(df_en[:ntrain]) #ntrain : train.shape[0] (앞쪽) / train set만 분리 후 표준화\n",
    "X_test = scaler.transform(df_en[ntrain:]) #test set 분리 후 표준화"
   ]
  },
  {
   "cell_type": "code",
   "execution_count": null,
   "metadata": {
    "id": "tJrDT6BFbmUd"
   },
   "outputs": [],
   "source": [
    "X_train #평균 0으로 표준화됨."
   ]
  },
  {
   "cell_type": "markdown",
   "metadata": {
    "id": "Mm67wYn4v1hR"
   },
   "source": [
    "## 2. 다양한 머신러닝 모델 만들기\n"
   ]
  },
  {
   "cell_type": "code",
   "execution_count": null,
   "metadata": {
    "id": "SA_Z_Pc8DQJa"
   },
   "outputs": [],
   "source": [
    "models = {#모델이름 : 모델\n",
    "    \"Ran\":RandomForestClassifier(),\n",
    "    \"KNN\":KNeighborsClassifier(),\n",
    "    \"Log\":LogisticRegression(),\n",
    "    \"GBC\":GradientBoostingClassifier(),\n",
    "    \"XGB\":XGBClassifier(),\n",
    "    \"SVC\":SVC(probability=True),\n",
    "    \"Ada\":AdaBoostClassifier(),\n",
    "    \"GNB\":GaussianNB(),\n",
    "    \"Bag\":BaggingClassifier(),\n",
    "}\n"
   ]
  },
  {
   "cell_type": "markdown",
   "metadata": {
    "id": "3Ms_1DBa3fFo"
   },
   "source": [
    "## 3. Cross validation 수행하기"
   ]
  },
  {
   "cell_type": "markdown",
   "metadata": {
    "id": "QfHLHyiQyBva"
   },
   "source": [
    "* 성능평가 방법은 accuracy를 사용한다.(캐글에서 지정한 방법 사용)\n",
    "\n",
    "참고: [scikit-learn 에서 모델 평가](https://scikit-learn.org/stable/modules/model_evaluation.html)"
   ]
  },
  {
   "cell_type": "code",
   "execution_count": null,
   "metadata": {
    "id": "KQIHmYQex_Cd"
   },
   "outputs": [],
   "source": [
    "scores = {} # cross-validation 결과가 저장된다.\n",
    "for model_name, model in models.items():\n",
    "    model.fit(X_train, y_train)\n",
    "    acc = cross_val_score(model, X_train, y_train, scoring = \"accuracy\", cv = 10)\n",
    "    scores[model_name] = acc\n",
    "    print(f\"{model_name}: {mean(acc)}\")\n"
   ]
  },
  {
   "cell_type": "code",
   "execution_count": null,
   "metadata": {
    "id": "nJ174Fh-eEKR"
   },
   "outputs": [],
   "source": []
  },
  {
   "cell_type": "markdown",
   "metadata": {
    "id": "nptv-QPAHrwZ"
   },
   "source": [
    "Cross validation 결과 정리\n"
   ]
  },
  {
   "cell_type": "code",
   "execution_count": null,
   "metadata": {
    "id": "dVDjTaUWHsmQ"
   },
   "outputs": [],
   "source": [
    "results = pd.DataFrame(scores).T\n",
    "results\n",
    "results['mean'] = results.mean(axis=1)\n",
    "result_df = results.sort_values(by='mean', ascending=False)\n",
    "result_df"
   ]
  },
  {
   "cell_type": "markdown",
   "metadata": {
    "id": "Xhm924xG3ngP"
   },
   "source": [
    "## 4. 중요한 Feature들만 선택"
   ]
  },
  {
   "cell_type": "markdown",
   "metadata": {
    "id": "7B4ejZVUzGdP"
   },
   "source": [
    "### 모델들로 부터 feature 중요도 가져오기\n",
    "\n",
    "* 모델의 속성중에서 \"feature_importances_\" 이 존재하면, feature들의 중요도를 얻을 수 있다.\n",
    "* 모델들로 부터 각 feature들에 대해 중요도 평균을 구한다.\n",
    "* 중요도 평균을 기준으로 내림차순 정렬한다.\n"
   ]
  },
  {
   "cell_type": "code",
   "execution_count": null,
   "metadata": {
    "id": "FXqdkIZ0KzNX"
   },
   "outputs": [],
   "source": [
    "#importance_dict = {m:models[m].feature_importances_ for m in models if hasattr(models[m], 'feature_importances_')}\n",
    "importance_dict = {}\n",
    "for model_name, model in models.items():\n",
    "    if hasattr(model, 'feature_importances_'): # model의 속성중에서 feature_importances_ 가 있는지 확인\n",
    "        importance_dict[model_name] = model.feature_importances_\n",
    "\n",
    "importances = pd.DataFrame.from_dict(importance_dict, orient='columns')\n",
    "importances.index = df_en.columns.tolist()\n",
    "importances[\"mean\"]= importances.mean(axis=1)\n",
    "importances.sort_values(\"mean\", inplace=True, ascending=False)\n",
    "importances\n",
    "#피처의 중요도를 만들어낼 수 있는 모델들만 출력\n"
   ]
  },
  {
   "cell_type": "markdown",
   "metadata": {
    "id": "DFpmvNGv0BKA"
   },
   "source": [
    "### 중요도가 높은 feature들을 선택한다.\n",
    "* Alone 만 제외하고 모두 선택하시오."
   ]
  },
  {
   "cell_type": "code",
   "execution_count": null,
   "metadata": {
    "id": "Gu_OPZZrQ1k-"
   },
   "outputs": [],
   "source": [
    "important_features = importances.index.tolist()[:-1]\n",
    "important_features"
   ]
  },
  {
   "cell_type": "markdown",
   "metadata": {
    "id": "KNDkQ_LM03M7"
   },
   "source": [
    "### 최종 선택된 feature들을 이용하여 train 데이터와 test 데이터를 표준화 한다."
   ]
  },
  {
   "cell_type": "code",
   "execution_count": null,
   "metadata": {
    "id": "DDACQmAgT0r_"
   },
   "outputs": [],
   "source": [
    "scaler = StandardScaler()\n",
    "X_train = scaler.fit_transform(df_en[:ntrain][important_features])\n",
    "X_test = scaler.transform(df_en[ntrain:][important_features])"
   ]
  },
  {
   "cell_type": "markdown",
   "metadata": {
    "id": "ZBfEniKq3u93"
   },
   "source": [
    "## 5. 다시 모델들을 fitting"
   ]
  },
  {
   "cell_type": "markdown",
   "metadata": {
    "id": "BRbCvByc1h4n"
   },
   "source": [
    "### 모델 fitting과 cross-validation을 다시 수행하고, 결과를 정리한다."
   ]
  },
  {
   "cell_type": "code",
   "execution_count": null,
   "metadata": {
    "id": "OUOxfJcQVkbN"
   },
   "outputs": [],
   "source": [
    "models = {\n",
    "    \"Ran\":RandomForestClassifier(),\n",
    "    \"KNN\":KNeighborsClassifier(),\n",
    "    \"Log\":LogisticRegression(),\n",
    "    \"GBC\":GradientBoostingClassifier(),\n",
    "    \"XGB\":XGBClassifier(),\n",
    "    \"SVC\":SVC(probability=True),\n",
    "    \"Ada\":AdaBoostClassifier(),\n",
    "    \"GNB\":GaussianNB(),\n",
    "    \"Bag\":BaggingClassifier(),\n",
    "}\n",
    "\n",
    "scores = {}\n",
    "for model_name, model in models.items():\n",
    "    model.fit(X_train, y_train)\n",
    "    acc = cross_val_score(model, X_train, y_train, scoring = \"accuracy\", cv = 10)\n",
    "    scores[model_name] = acc\n",
    "    print(f\"{model_name}: {mean(acc)}\")"
   ]
  },
  {
   "cell_type": "code",
   "execution_count": null,
   "metadata": {
    "id": "ATMjns-eWBJI"
   },
   "outputs": [],
   "source": [
    "results = pd.DataFrame(scores).T\n",
    "results\n",
    "results['mean'] = results.mean(axis=1)\n",
    "result_df = results.sort_values(by='mean', ascending=False)\n",
    "result_df"
   ]
  },
  {
   "cell_type": "markdown",
   "metadata": {
    "id": "09YdXGxN2DJX"
   },
   "source": [
    "### 여러 머신러닝 모델들을 이용하여 VotingClassifier 모델을 생성하고, fitting 한다."
   ]
  },
  {
   "cell_type": "code",
   "execution_count": null,
   "metadata": {
    "id": "5CLLAQVGnSLU"
   },
   "outputs": [],
   "source": [
    "soft_voting = VotingClassifier(estimators = list(models.items()), voting = 'soft')\n",
    "soft_voting.fit(X_train, y_train)\n",
    "soft_voting_cv = model_selection.cross_validate(soft_voting, X_train, y_train, cv=10)\n",
    "print(f\"Soft voting cross-validation score mean: {soft_voting_cv['test_score'].mean():.2f}\")"
   ]
  },
  {
   "cell_type": "markdown",
   "metadata": {
    "id": "vYhuErrO2vxz"
   },
   "source": [
    "## 6. 최종 모델 선택"
   ]
  },
  {
   "cell_type": "code",
   "execution_count": null,
   "metadata": {
    "id": "oNtVxfZG2m11"
   },
   "outputs": [],
   "source": [
    "final_model = soft_voting # models[\"SVC\"]"
   ]
  },
  {
   "cell_type": "markdown",
   "metadata": {
    "id": "vDn3oSkjurGk"
   },
   "source": [
    "# 제출 파일 만들기\n"
   ]
  },
  {
   "cell_type": "code",
   "execution_count": null,
   "metadata": {
    "id": "9PKFnnBNrNQF"
   },
   "outputs": [],
   "source": [
    "predictions = final_model.predict(X_test)\n",
    "\n",
    "submission = pd.concat([pd.DataFrame(passId), pd.DataFrame(predictions)], axis = 'columns') #columns방향으로 합친다.\n",
    "submission.columns = [\"PassengerId\", \"Survived\"] #케글 지정 컬럼\n",
    "print(submission)\n",
    "submission.to_csv('titanic_submission.csv', header = True, index = False)"
   ]
  }
 ],
 "metadata": {
  "accelerator": "TPU",
  "colab": {
   "collapsed_sections": [
    "VsPXWnIkTwIW",
    "SvrNu8GzbQbZ",
    "aqF3n-abfjsk"
   ],
   "name": "titanic_03_김수현_18016019.ipynb",
   "private_outputs": true,
   "provenance": [],
   "toc_visible": true
  },
  "kernelspec": {
   "display_name": "Python 3",
   "language": "python",
   "name": "python3"
  },
  "language_info": {
   "codemirror_mode": {
    "name": "ipython",
    "version": 3
   },
   "file_extension": ".py",
   "mimetype": "text/x-python",
   "name": "python",
   "nbconvert_exporter": "python",
   "pygments_lexer": "ipython3",
   "version": "3.8.5"
  },
  "toc": {
   "base_numbering": 1,
   "nav_menu": {},
   "number_sections": true,
   "sideBar": true,
   "skip_h1_title": false,
   "title_cell": "Table of Contents",
   "title_sidebar": "Contents",
   "toc_cell": false,
   "toc_position": {},
   "toc_section_display": true,
   "toc_window_display": false
  },
  "varInspector": {
   "cols": {
    "lenName": 16,
    "lenType": 16,
    "lenVar": 40
   },
   "kernels_config": {
    "python": {
     "delete_cmd_postfix": "",
     "delete_cmd_prefix": "del ",
     "library": "var_list.py",
     "varRefreshCmd": "print(var_dic_list())"
    },
    "r": {
     "delete_cmd_postfix": ") ",
     "delete_cmd_prefix": "rm(",
     "library": "var_list.r",
     "varRefreshCmd": "cat(var_dic_list()) "
    }
   },
   "types_to_exclude": [
    "module",
    "function",
    "builtin_function_or_method",
    "instance",
    "_Feature"
   ],
   "window_display": false
  }
 },
 "nbformat": 4,
 "nbformat_minor": 1
}
