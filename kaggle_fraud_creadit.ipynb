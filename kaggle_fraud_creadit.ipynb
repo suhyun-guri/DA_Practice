{
 "cells": [
  {
   "cell_type": "markdown",
   "metadata": {
    "id": "w-w3qFSV-_jb"
   },
   "source": [
    "# 캐글 신용카드 사기 데이터\n",
    "\n",
    " https://www.kaggle.com/mlg-ulb/creditcardfraud"
   ]
  },
  {
   "cell_type": "markdown",
   "metadata": {
    "id": "r0b_V25NwIOd"
   },
   "source": [
    "### 데이터 일차 가공 및 모델 학습/예측/평가\n",
    "\n",
    "** 데이터 로드 **"
   ]
  },
  {
   "cell_type": "code",
   "execution_count": 7,
   "metadata": {
    "colab": {
     "base_uri": "https://localhost:8080/",
     "height": 159
    },
    "id": "W-j7VfpgwIOd",
    "outputId": "b09a5179-a029-4178-89f7-43f026dd9411",
    "scrolled": true
   },
   "outputs": [
    {
     "data": {
      "text/html": [
       "<div>\n",
       "<style scoped>\n",
       "    .dataframe tbody tr th:only-of-type {\n",
       "        vertical-align: middle;\n",
       "    }\n",
       "\n",
       "    .dataframe tbody tr th {\n",
       "        vertical-align: top;\n",
       "    }\n",
       "\n",
       "    .dataframe thead th {\n",
       "        text-align: right;\n",
       "    }\n",
       "</style>\n",
       "<table border=\"1\" class=\"dataframe\">\n",
       "  <thead>\n",
       "    <tr style=\"text-align: right;\">\n",
       "      <th></th>\n",
       "      <th>Time</th>\n",
       "      <th>V1</th>\n",
       "      <th>V2</th>\n",
       "      <th>V3</th>\n",
       "      <th>V4</th>\n",
       "      <th>V5</th>\n",
       "      <th>V6</th>\n",
       "      <th>V7</th>\n",
       "      <th>V8</th>\n",
       "      <th>V9</th>\n",
       "      <th>V10</th>\n",
       "      <th>V11</th>\n",
       "      <th>V12</th>\n",
       "      <th>V13</th>\n",
       "      <th>V14</th>\n",
       "      <th>V15</th>\n",
       "      <th>V16</th>\n",
       "      <th>V17</th>\n",
       "      <th>V18</th>\n",
       "      <th>V19</th>\n",
       "      <th>V20</th>\n",
       "      <th>V21</th>\n",
       "      <th>V22</th>\n",
       "      <th>V23</th>\n",
       "      <th>V24</th>\n",
       "      <th>V25</th>\n",
       "      <th>V26</th>\n",
       "      <th>V27</th>\n",
       "      <th>V28</th>\n",
       "      <th>Amount</th>\n",
       "      <th>Class</th>\n",
       "    </tr>\n",
       "  </thead>\n",
       "  <tbody>\n",
       "    <tr>\n",
       "      <th>0</th>\n",
       "      <td>297.0</td>\n",
       "      <td>-1.148038</td>\n",
       "      <td>0.367626</td>\n",
       "      <td>2.769717</td>\n",
       "      <td>-0.356562</td>\n",
       "      <td>-0.268456</td>\n",
       "      <td>0.323423</td>\n",
       "      <td>-0.108718</td>\n",
       "      <td>0.452755</td>\n",
       "      <td>0.166990</td>\n",
       "      <td>-0.752053</td>\n",
       "      <td>1.034453</td>\n",
       "      <td>0.563469</td>\n",
       "      <td>-0.969780</td>\n",
       "      <td>-0.203454</td>\n",
       "      <td>-0.748644</td>\n",
       "      <td>0.176892</td>\n",
       "      <td>-0.250893</td>\n",
       "      <td>-0.078208</td>\n",
       "      <td>-0.665424</td>\n",
       "      <td>-0.165654</td>\n",
       "      <td>0.063334</td>\n",
       "      <td>0.168210</td>\n",
       "      <td>-0.194521</td>\n",
       "      <td>0.228655</td>\n",
       "      <td>0.107744</td>\n",
       "      <td>0.222331</td>\n",
       "      <td>-0.109160</td>\n",
       "      <td>0.089767</td>\n",
       "      <td>6.20</td>\n",
       "      <td>0</td>\n",
       "    </tr>\n",
       "    <tr>\n",
       "      <th>1</th>\n",
       "      <td>118832.0</td>\n",
       "      <td>2.162760</td>\n",
       "      <td>-1.238885</td>\n",
       "      <td>0.063662</td>\n",
       "      <td>-0.912555</td>\n",
       "      <td>-1.480984</td>\n",
       "      <td>0.013461</td>\n",
       "      <td>-1.675211</td>\n",
       "      <td>0.127731</td>\n",
       "      <td>0.713710</td>\n",
       "      <td>0.689094</td>\n",
       "      <td>-1.569801</td>\n",
       "      <td>-0.777109</td>\n",
       "      <td>0.386043</td>\n",
       "      <td>-0.895883</td>\n",
       "      <td>0.694106</td>\n",
       "      <td>1.882825</td>\n",
       "      <td>-0.365570</td>\n",
       "      <td>-0.419707</td>\n",
       "      <td>0.463375</td>\n",
       "      <td>0.004118</td>\n",
       "      <td>0.375718</td>\n",
       "      <td>1.185962</td>\n",
       "      <td>0.102516</td>\n",
       "      <td>-0.684163</td>\n",
       "      <td>-0.324838</td>\n",
       "      <td>-0.046454</td>\n",
       "      <td>0.054129</td>\n",
       "      <td>-0.038738</td>\n",
       "      <td>11.99</td>\n",
       "      <td>0</td>\n",
       "    </tr>\n",
       "    <tr>\n",
       "      <th>2</th>\n",
       "      <td>68226.0</td>\n",
       "      <td>1.431259</td>\n",
       "      <td>-1.209961</td>\n",
       "      <td>0.773942</td>\n",
       "      <td>-1.284117</td>\n",
       "      <td>-1.906485</td>\n",
       "      <td>-0.800030</td>\n",
       "      <td>-1.230176</td>\n",
       "      <td>-0.130394</td>\n",
       "      <td>-1.548655</td>\n",
       "      <td>1.420871</td>\n",
       "      <td>-0.572030</td>\n",
       "      <td>-1.085671</td>\n",
       "      <td>0.254936</td>\n",
       "      <td>-0.422863</td>\n",
       "      <td>0.881729</td>\n",
       "      <td>-0.129313</td>\n",
       "      <td>0.394034</td>\n",
       "      <td>0.355615</td>\n",
       "      <td>-0.450581</td>\n",
       "      <td>-0.270220</td>\n",
       "      <td>-0.043408</td>\n",
       "      <td>0.194592</td>\n",
       "      <td>-0.026630</td>\n",
       "      <td>0.382732</td>\n",
       "      <td>0.316367</td>\n",
       "      <td>-0.106322</td>\n",
       "      <td>0.043092</td>\n",
       "      <td>0.032694</td>\n",
       "      <td>47.00</td>\n",
       "      <td>0</td>\n",
       "    </tr>\n",
       "  </tbody>\n",
       "</table>\n",
       "</div>"
      ],
      "text/plain": [
       "       Time        V1        V2        V3  ...       V27       V28  Amount  Class\n",
       "0     297.0 -1.148038  0.367626  2.769717  ... -0.109160  0.089767    6.20      0\n",
       "1  118832.0  2.162760 -1.238885  0.063662  ...  0.054129 -0.038738   11.99      0\n",
       "2   68226.0  1.431259 -1.209961  0.773942  ...  0.043092  0.032694   47.00      0\n",
       "\n",
       "[3 rows x 31 columns]"
      ]
     },
     "execution_count": 7,
     "metadata": {
      "tags": []
     },
     "output_type": "execute_result"
    }
   ],
   "source": [
    "import pandas as pd\n",
    "import numpy as np \n",
    "import matplotlib.pyplot as plt\n",
    "import seaborn as sns\n",
    "import warnings\n",
    "warnings.filterwarnings(\"ignore\")\n",
    "%matplotlib inline\n",
    "\n",
    "from sklearn.preprocessing import StandardScaler\n",
    "from sklearn.neighbors import KNeighborsClassifier\n",
    "from sklearn.linear_model import LogisticRegression\n",
    "from sklearn.ensemble import RandomForestClassifier\n",
    "from sklearn.svm import SVC\n",
    "from xgboost import XGBClassifier\n",
    "from lightgbm import LGBMClassifier\n",
    "from sklearn.ensemble import GradientBoostingClassifier\n",
    "from sklearn.ensemble import ExtraTreesClassifier\n",
    "from sklearn.ensemble import AdaBoostClassifier\n",
    "from sklearn.gaussian_process import GaussianProcessClassifier\n",
    "from sklearn.naive_bayes import GaussianNB\n",
    "from sklearn.ensemble import BaggingClassifier\n",
    "from sklearn.ensemble import VotingClassifier\n",
    "\n",
    "from sklearn.model_selection import cross_val_score\n",
    "from sklearn.model_selection import cross_val_predict\n",
    "from sklearn import model_selection\n",
    "\n",
    "from statistics import mean\n",
    "\n",
    "df_card = pd.read_csv('./small_creditcard.csv')\n",
    "df_card.head(3)"
   ]
  },
  {
   "cell_type": "code",
   "execution_count": 8,
   "metadata": {
    "colab": {
     "base_uri": "https://localhost:8080/"
    },
    "id": "xrZAqGKzwIOe",
    "outputId": "fea54ccd-6089-4c65-d6d8-0a550e718198"
   },
   "outputs": [
    {
     "data": {
      "text/plain": [
       "(28924, 31)"
      ]
     },
     "execution_count": 8,
     "metadata": {
      "tags": []
     },
     "output_type": "execute_result"
    }
   ],
   "source": [
    "# 전체 데이터 모양\n",
    "df_card.shape"
   ]
  },
  {
   "cell_type": "code",
   "execution_count": 10,
   "metadata": {
    "colab": {
     "base_uri": "https://localhost:8080/"
    },
    "id": "FJFUHGEh4CUU",
    "outputId": "4b267b49-895b-44f7-b977-256ad0afbca3"
   },
   "outputs": [
    {
     "data": {
      "text/plain": [
       "Time      0\n",
       "V1        0\n",
       "V2        0\n",
       "V3        0\n",
       "V4        0\n",
       "V5        0\n",
       "V6        0\n",
       "V7        0\n",
       "V8        0\n",
       "V9        0\n",
       "V10       0\n",
       "V11       0\n",
       "V12       0\n",
       "V13       0\n",
       "V14       0\n",
       "V15       0\n",
       "V16       0\n",
       "V17       0\n",
       "V18       0\n",
       "V19       0\n",
       "V20       0\n",
       "V21       0\n",
       "V22       0\n",
       "V23       0\n",
       "V24       0\n",
       "V25       0\n",
       "V26       0\n",
       "V27       0\n",
       "V28       0\n",
       "Amount    0\n",
       "Class     0\n",
       "dtype: int64"
      ]
     },
     "execution_count": 10,
     "metadata": {
      "tags": []
     },
     "output_type": "execute_result"
    }
   ],
   "source": [
    "# 결측치 확인 하기\n",
    "total = df_card.isnull().sum()\n",
    "total"
   ]
  },
  {
   "cell_type": "code",
   "execution_count": 11,
   "metadata": {
    "colab": {
     "base_uri": "https://localhost:8080/",
     "height": 353
    },
    "id": "W1RFyXzL5LFz",
    "outputId": "7c35c35d-efd5-4b8a-ac2a-c59eeb461208"
   },
   "outputs": [
    {
     "name": "stdout",
     "output_type": "stream",
     "text": [
      "0    28432\n",
      "1      492\n",
      "Name: Class, dtype: int64\n"
     ]
    },
    {
     "data": {
      "text/plain": [
       "<matplotlib.axes._subplots.AxesSubplot at 0x7f251a72b7b8>"
      ]
     },
     "execution_count": 11,
     "metadata": {
      "tags": []
     },
     "output_type": "execute_result"
    },
    {
     "data": {
      "image/png": "[encoded data removed]",
      "text/plain": [
       "<Figure size 432x288 with 1 Axes>"
      ]
     },
     "metadata": {
      "needs_background": "light",
      "tags": []
     },
     "output_type": "display_data"
    }
   ],
   "source": [
    "# 종속변수 분석(0이 1보다 훨씬 많다는 것을 알 수 있다.)\n",
    "print(df_card[\"Class\"].value_counts())\n",
    "sns.countplot(df_card[\"Class\"])"
   ]
  },
  {
   "cell_type": "markdown",
   "metadata": {
    "id": "WBNxNxgN_8GB"
   },
   "source": [
    "## 데이터셋 생성"
   ]
  },
  {
   "cell_type": "code",
   "execution_count": 12,
   "metadata": {
    "colab": {
     "base_uri": "https://localhost:8080/",
     "height": 431
    },
    "id": "_ulW9Ji7DzfV",
    "outputId": "225a89a2-2583-4745-b23f-f0940b286fc9"
   },
   "outputs": [
    {
     "data": {
      "text/html": [
       "<div>\n",
       "<style scoped>\n",
       "    .dataframe tbody tr th:only-of-type {\n",
       "        vertical-align: middle;\n",
       "    }\n",
       "\n",
       "    .dataframe tbody tr th {\n",
       "        vertical-align: top;\n",
       "    }\n",
       "\n",
       "    .dataframe thead th {\n",
       "        text-align: right;\n",
       "    }\n",
       "</style>\n",
       "<table border=\"1\" class=\"dataframe\">\n",
       "  <thead>\n",
       "    <tr style=\"text-align: right;\">\n",
       "      <th></th>\n",
       "      <th>V1</th>\n",
       "      <th>V2</th>\n",
       "      <th>V3</th>\n",
       "      <th>V4</th>\n",
       "      <th>V5</th>\n",
       "      <th>V6</th>\n",
       "      <th>V7</th>\n",
       "      <th>V8</th>\n",
       "      <th>V9</th>\n",
       "      <th>V10</th>\n",
       "      <th>V11</th>\n",
       "      <th>V12</th>\n",
       "      <th>V13</th>\n",
       "      <th>V14</th>\n",
       "      <th>V15</th>\n",
       "      <th>V16</th>\n",
       "      <th>V17</th>\n",
       "      <th>V18</th>\n",
       "      <th>V19</th>\n",
       "      <th>V20</th>\n",
       "      <th>V21</th>\n",
       "      <th>V22</th>\n",
       "      <th>V23</th>\n",
       "      <th>V24</th>\n",
       "      <th>V25</th>\n",
       "      <th>V26</th>\n",
       "      <th>V27</th>\n",
       "      <th>V28</th>\n",
       "      <th>Amount</th>\n",
       "      <th>Class</th>\n",
       "    </tr>\n",
       "  </thead>\n",
       "  <tbody>\n",
       "    <tr>\n",
       "      <th>0</th>\n",
       "      <td>-1.148038</td>\n",
       "      <td>0.367626</td>\n",
       "      <td>2.769717</td>\n",
       "      <td>-0.356562</td>\n",
       "      <td>-0.268456</td>\n",
       "      <td>0.323423</td>\n",
       "      <td>-0.108718</td>\n",
       "      <td>0.452755</td>\n",
       "      <td>0.166990</td>\n",
       "      <td>-0.752053</td>\n",
       "      <td>1.034453</td>\n",
       "      <td>0.563469</td>\n",
       "      <td>-0.969780</td>\n",
       "      <td>-0.203454</td>\n",
       "      <td>-0.748644</td>\n",
       "      <td>0.176892</td>\n",
       "      <td>-0.250893</td>\n",
       "      <td>-0.078208</td>\n",
       "      <td>-0.665424</td>\n",
       "      <td>-0.165654</td>\n",
       "      <td>0.063334</td>\n",
       "      <td>0.168210</td>\n",
       "      <td>-0.194521</td>\n",
       "      <td>0.228655</td>\n",
       "      <td>0.107744</td>\n",
       "      <td>0.222331</td>\n",
       "      <td>-0.109160</td>\n",
       "      <td>0.089767</td>\n",
       "      <td>6.20</td>\n",
       "      <td>0</td>\n",
       "    </tr>\n",
       "    <tr>\n",
       "      <th>1</th>\n",
       "      <td>2.162760</td>\n",
       "      <td>-1.238885</td>\n",
       "      <td>0.063662</td>\n",
       "      <td>-0.912555</td>\n",
       "      <td>-1.480984</td>\n",
       "      <td>0.013461</td>\n",
       "      <td>-1.675211</td>\n",
       "      <td>0.127731</td>\n",
       "      <td>0.713710</td>\n",
       "      <td>0.689094</td>\n",
       "      <td>-1.569801</td>\n",
       "      <td>-0.777109</td>\n",
       "      <td>0.386043</td>\n",
       "      <td>-0.895883</td>\n",
       "      <td>0.694106</td>\n",
       "      <td>1.882825</td>\n",
       "      <td>-0.365570</td>\n",
       "      <td>-0.419707</td>\n",
       "      <td>0.463375</td>\n",
       "      <td>0.004118</td>\n",
       "      <td>0.375718</td>\n",
       "      <td>1.185962</td>\n",
       "      <td>0.102516</td>\n",
       "      <td>-0.684163</td>\n",
       "      <td>-0.324838</td>\n",
       "      <td>-0.046454</td>\n",
       "      <td>0.054129</td>\n",
       "      <td>-0.038738</td>\n",
       "      <td>11.99</td>\n",
       "      <td>0</td>\n",
       "    </tr>\n",
       "    <tr>\n",
       "      <th>2</th>\n",
       "      <td>1.431259</td>\n",
       "      <td>-1.209961</td>\n",
       "      <td>0.773942</td>\n",
       "      <td>-1.284117</td>\n",
       "      <td>-1.906485</td>\n",
       "      <td>-0.800030</td>\n",
       "      <td>-1.230176</td>\n",
       "      <td>-0.130394</td>\n",
       "      <td>-1.548655</td>\n",
       "      <td>1.420871</td>\n",
       "      <td>-0.572030</td>\n",
       "      <td>-1.085671</td>\n",
       "      <td>0.254936</td>\n",
       "      <td>-0.422863</td>\n",
       "      <td>0.881729</td>\n",
       "      <td>-0.129313</td>\n",
       "      <td>0.394034</td>\n",
       "      <td>0.355615</td>\n",
       "      <td>-0.450581</td>\n",
       "      <td>-0.270220</td>\n",
       "      <td>-0.043408</td>\n",
       "      <td>0.194592</td>\n",
       "      <td>-0.026630</td>\n",
       "      <td>0.382732</td>\n",
       "      <td>0.316367</td>\n",
       "      <td>-0.106322</td>\n",
       "      <td>0.043092</td>\n",
       "      <td>0.032694</td>\n",
       "      <td>47.00</td>\n",
       "      <td>0</td>\n",
       "    </tr>\n",
       "    <tr>\n",
       "      <th>3</th>\n",
       "      <td>-0.904846</td>\n",
       "      <td>1.972067</td>\n",
       "      <td>-0.640908</td>\n",
       "      <td>-0.592312</td>\n",
       "      <td>2.583306</td>\n",
       "      <td>-0.339718</td>\n",
       "      <td>1.623795</td>\n",
       "      <td>0.032554</td>\n",
       "      <td>-1.312951</td>\n",
       "      <td>-2.526887</td>\n",
       "      <td>1.339570</td>\n",
       "      <td>-0.018091</td>\n",
       "      <td>0.568721</td>\n",
       "      <td>-3.608999</td>\n",
       "      <td>-0.537181</td>\n",
       "      <td>1.833423</td>\n",
       "      <td>1.601944</td>\n",
       "      <td>1.697607</td>\n",
       "      <td>-1.900715</td>\n",
       "      <td>-0.069056</td>\n",
       "      <td>-0.163554</td>\n",
       "      <td>-0.494736</td>\n",
       "      <td>-0.713285</td>\n",
       "      <td>-1.667608</td>\n",
       "      <td>1.104233</td>\n",
       "      <td>-0.443749</td>\n",
       "      <td>0.041098</td>\n",
       "      <td>0.103754</td>\n",
       "      <td>3.49</td>\n",
       "      <td>0</td>\n",
       "    </tr>\n",
       "    <tr>\n",
       "      <th>4</th>\n",
       "      <td>-0.580885</td>\n",
       "      <td>1.269135</td>\n",
       "      <td>1.173819</td>\n",
       "      <td>0.013105</td>\n",
       "      <td>-0.050119</td>\n",
       "      <td>-0.992948</td>\n",
       "      <td>0.711062</td>\n",
       "      <td>-0.054799</td>\n",
       "      <td>-0.174265</td>\n",
       "      <td>-0.201470</td>\n",
       "      <td>-0.227284</td>\n",
       "      <td>-0.182414</td>\n",
       "      <td>-0.084298</td>\n",
       "      <td>-0.460413</td>\n",
       "      <td>0.933400</td>\n",
       "      <td>0.375760</td>\n",
       "      <td>0.007957</td>\n",
       "      <td>-0.126950</td>\n",
       "      <td>-0.116895</td>\n",
       "      <td>0.224314</td>\n",
       "      <td>-0.299015</td>\n",
       "      <td>-0.726440</td>\n",
       "      <td>0.018381</td>\n",
       "      <td>0.319000</td>\n",
       "      <td>-0.110297</td>\n",
       "      <td>0.078397</td>\n",
       "      <td>0.355737</td>\n",
       "      <td>0.154326</td>\n",
       "      <td>8.92</td>\n",
       "      <td>0</td>\n",
       "    </tr>\n",
       "    <tr>\n",
       "      <th>...</th>\n",
       "      <td>...</td>\n",
       "      <td>...</td>\n",
       "      <td>...</td>\n",
       "      <td>...</td>\n",
       "      <td>...</td>\n",
       "      <td>...</td>\n",
       "      <td>...</td>\n",
       "      <td>...</td>\n",
       "      <td>...</td>\n",
       "      <td>...</td>\n",
       "      <td>...</td>\n",
       "      <td>...</td>\n",
       "      <td>...</td>\n",
       "      <td>...</td>\n",
       "      <td>...</td>\n",
       "      <td>...</td>\n",
       "      <td>...</td>\n",
       "      <td>...</td>\n",
       "      <td>...</td>\n",
       "      <td>...</td>\n",
       "      <td>...</td>\n",
       "      <td>...</td>\n",
       "      <td>...</td>\n",
       "      <td>...</td>\n",
       "      <td>...</td>\n",
       "      <td>...</td>\n",
       "      <td>...</td>\n",
       "      <td>...</td>\n",
       "      <td>...</td>\n",
       "      <td>...</td>\n",
       "    </tr>\n",
       "    <tr>\n",
       "      <th>28919</th>\n",
       "      <td>-0.584838</td>\n",
       "      <td>0.707524</td>\n",
       "      <td>0.206116</td>\n",
       "      <td>-0.655352</td>\n",
       "      <td>0.483038</td>\n",
       "      <td>-0.930851</td>\n",
       "      <td>0.839409</td>\n",
       "      <td>-0.171791</td>\n",
       "      <td>-0.040006</td>\n",
       "      <td>0.115162</td>\n",
       "      <td>0.840832</td>\n",
       "      <td>0.711381</td>\n",
       "      <td>-0.338107</td>\n",
       "      <td>0.246548</td>\n",
       "      <td>-1.035197</td>\n",
       "      <td>0.070942</td>\n",
       "      <td>-0.642155</td>\n",
       "      <td>-0.272854</td>\n",
       "      <td>0.211609</td>\n",
       "      <td>-0.205460</td>\n",
       "      <td>-0.197186</td>\n",
       "      <td>-0.438167</td>\n",
       "      <td>0.294931</td>\n",
       "      <td>0.060381</td>\n",
       "      <td>-0.517084</td>\n",
       "      <td>0.089154</td>\n",
       "      <td>-0.125381</td>\n",
       "      <td>0.085707</td>\n",
       "      <td>2.68</td>\n",
       "      <td>0</td>\n",
       "    </tr>\n",
       "    <tr>\n",
       "      <th>28920</th>\n",
       "      <td>-0.391432</td>\n",
       "      <td>0.666568</td>\n",
       "      <td>0.319157</td>\n",
       "      <td>-0.655617</td>\n",
       "      <td>1.451894</td>\n",
       "      <td>-0.850163</td>\n",
       "      <td>1.087021</td>\n",
       "      <td>-0.274611</td>\n",
       "      <td>-0.105761</td>\n",
       "      <td>-0.960113</td>\n",
       "      <td>-0.933181</td>\n",
       "      <td>-0.921178</td>\n",
       "      <td>-1.133777</td>\n",
       "      <td>-0.919331</td>\n",
       "      <td>-0.060529</td>\n",
       "      <td>0.264652</td>\n",
       "      <td>0.334794</td>\n",
       "      <td>-0.017223</td>\n",
       "      <td>-0.024027</td>\n",
       "      <td>0.013656</td>\n",
       "      <td>-0.331086</td>\n",
       "      <td>-0.905964</td>\n",
       "      <td>-0.070994</td>\n",
       "      <td>0.454476</td>\n",
       "      <td>-0.331515</td>\n",
       "      <td>0.121960</td>\n",
       "      <td>-0.108407</td>\n",
       "      <td>-0.054006</td>\n",
       "      <td>1.98</td>\n",
       "      <td>0</td>\n",
       "    </tr>\n",
       "    <tr>\n",
       "      <th>28921</th>\n",
       "      <td>1.216427</td>\n",
       "      <td>-0.493720</td>\n",
       "      <td>0.868046</td>\n",
       "      <td>-0.692253</td>\n",
       "      <td>-1.332927</td>\n",
       "      <td>-0.822326</td>\n",
       "      <td>-0.653288</td>\n",
       "      <td>0.013846</td>\n",
       "      <td>1.994663</td>\n",
       "      <td>-1.050031</td>\n",
       "      <td>-0.636871</td>\n",
       "      <td>0.225129</td>\n",
       "      <td>-0.927995</td>\n",
       "      <td>0.003446</td>\n",
       "      <td>1.384620</td>\n",
       "      <td>-0.413257</td>\n",
       "      <td>-0.103127</td>\n",
       "      <td>0.467672</td>\n",
       "      <td>0.474292</td>\n",
       "      <td>-0.150241</td>\n",
       "      <td>0.135737</td>\n",
       "      <td>0.591296</td>\n",
       "      <td>-0.135473</td>\n",
       "      <td>0.392917</td>\n",
       "      <td>0.588397</td>\n",
       "      <td>-0.528992</td>\n",
       "      <td>0.086007</td>\n",
       "      <td>0.033559</td>\n",
       "      <td>16.95</td>\n",
       "      <td>0</td>\n",
       "    </tr>\n",
       "    <tr>\n",
       "      <th>28922</th>\n",
       "      <td>1.081374</td>\n",
       "      <td>-0.173686</td>\n",
       "      <td>-0.125075</td>\n",
       "      <td>1.574406</td>\n",
       "      <td>1.677616</td>\n",
       "      <td>4.428573</td>\n",
       "      <td>-1.069906</td>\n",
       "      <td>1.151166</td>\n",
       "      <td>-0.026695</td>\n",
       "      <td>0.530029</td>\n",
       "      <td>-0.728483</td>\n",
       "      <td>-0.008559</td>\n",
       "      <td>-0.004328</td>\n",
       "      <td>-0.260574</td>\n",
       "      <td>-0.108290</td>\n",
       "      <td>0.954300</td>\n",
       "      <td>-0.913116</td>\n",
       "      <td>0.255884</td>\n",
       "      <td>-0.486136</td>\n",
       "      <td>0.065371</td>\n",
       "      <td>-0.108454</td>\n",
       "      <td>-0.426971</td>\n",
       "      <td>-0.035571</td>\n",
       "      <td>0.994900</td>\n",
       "      <td>0.437947</td>\n",
       "      <td>-0.033462</td>\n",
       "      <td>0.035461</td>\n",
       "      <td>0.037910</td>\n",
       "      <td>51.93</td>\n",
       "      <td>0</td>\n",
       "    </tr>\n",
       "    <tr>\n",
       "      <th>28923</th>\n",
       "      <td>1.968395</td>\n",
       "      <td>-0.470297</td>\n",
       "      <td>-0.422692</td>\n",
       "      <td>0.377741</td>\n",
       "      <td>-0.501543</td>\n",
       "      <td>-0.088083</td>\n",
       "      <td>-0.636255</td>\n",
       "      <td>-0.011907</td>\n",
       "      <td>1.140567</td>\n",
       "      <td>-0.028528</td>\n",
       "      <td>-0.977871</td>\n",
       "      <td>0.713116</td>\n",
       "      <td>1.032368</td>\n",
       "      <td>-0.453178</td>\n",
       "      <td>0.309145</td>\n",
       "      <td>0.329789</td>\n",
       "      <td>-0.596904</td>\n",
       "      <td>0.026047</td>\n",
       "      <td>-0.252337</td>\n",
       "      <td>-0.062752</td>\n",
       "      <td>0.225088</td>\n",
       "      <td>0.841853</td>\n",
       "      <td>0.121056</td>\n",
       "      <td>0.753355</td>\n",
       "      <td>-0.175702</td>\n",
       "      <td>0.593617</td>\n",
       "      <td>-0.022590</td>\n",
       "      <td>-0.036583</td>\n",
       "      <td>29.99</td>\n",
       "      <td>0</td>\n",
       "    </tr>\n",
       "  </tbody>\n",
       "</table>\n",
       "<p>28924 rows × 30 columns</p>\n",
       "</div>"
      ],
      "text/plain": [
       "             V1        V2        V3  ...       V28  Amount  Class\n",
       "0     -1.148038  0.367626  2.769717  ...  0.089767    6.20      0\n",
       "1      2.162760 -1.238885  0.063662  ... -0.038738   11.99      0\n",
       "2      1.431259 -1.209961  0.773942  ...  0.032694   47.00      0\n",
       "3     -0.904846  1.972067 -0.640908  ...  0.103754    3.49      0\n",
       "4     -0.580885  1.269135  1.173819  ...  0.154326    8.92      0\n",
       "...         ...       ...       ...  ...       ...     ...    ...\n",
       "28919 -0.584838  0.707524  0.206116  ...  0.085707    2.68      0\n",
       "28920 -0.391432  0.666568  0.319157  ... -0.054006    1.98      0\n",
       "28921  1.216427 -0.493720  0.868046  ...  0.033559   16.95      0\n",
       "28922  1.081374 -0.173686 -0.125075  ...  0.037910   51.93      0\n",
       "28923  1.968395 -0.470297 -0.422692  ... -0.036583   29.99      0\n",
       "\n",
       "[28924 rows x 30 columns]"
      ]
     },
     "execution_count": 12,
     "metadata": {
      "tags": []
     },
     "output_type": "execute_result"
    }
   ],
   "source": [
    "# 원본 DataFrame은 유지하고 데이터 가공을 위한 DataFrame을 복사\n",
    "df_copy = df_card.copy()\n",
    "df_copy.drop('Time', axis=1, inplace=True)\n",
    "df_copy\n"
   ]
  },
  {
   "cell_type": "code",
   "execution_count": 19,
   "metadata": {
    "colab": {
     "base_uri": "https://localhost:8080/"
    },
    "id": "8Ss4N3f8ELdt",
    "outputId": "edef38ce-e7e1-43a4-d497-b7b952c361b3"
   },
   "outputs": [
    {
     "name": "stdout",
     "output_type": "stream",
     "text": [
      "학습 데이터 레이블 값 비율\n",
      "0    98.300899\n",
      "1     1.699101\n",
      "Name: Class, dtype: float64\n",
      "테스트 데이터 레이블 값 비율\n",
      "0    98.294538\n",
      "1     1.705462\n",
      "Name: Class, dtype: float64\n"
     ]
    }
   ],
   "source": [
    "# train_test_split() 함수를 이용하여 데이터를 train, test 데이터를 생성한다.\n",
    "# 이때, stratify=y_target 옵션을 사용하면, train과 test 데이터에서 레이블 값의 비율을 일정하게 할 수 있다.\n",
    "\n",
    "from sklearn.model_selection import train_test_split\n",
    "\n",
    "X_features = df_copy.iloc[:, :-1] #피처들의 모음, class 레이블만 빠짐\n",
    "y_target = df_copy.iloc[:, -1] #레이블 값만 존재 class\n",
    "\n",
    "# train_test_split( )으로 학습과 테스트 데이터 분할. stratify=y_target으로 Stratified 기반 분할\n",
    "#imbalanced data에는 stratify=y_target 옵션 필수 - 비율 맞춰줌\n",
    "X_train, X_test, y_train, y_test = train_test_split(X_features, y_target, test_size=0.3, random_state=0, stratify=y_target)\n",
    "\n",
    "print('학습 데이터 레이블 값 비율')\n",
    "print(y_train.value_counts()/y_train.shape[0] * 100)\n",
    "print('테스트 데이터 레이블 값 비율')\n",
    "print(y_test.value_counts()/y_test.shape[0] * 100)"
   ]
  },
  {
   "cell_type": "markdown",
   "metadata": {
    "id": "yPeAuJ-YAyaR"
   },
   "source": [
    "## 모델을 평가하는 함수 작성\n",
    "사이킷런에서 제공하는 다양한 모델평가 함수를 사용 할 수 있다.\n",
    "불균형 데이터의 경우, roc_auc, average_precision, F1 등을 주로 사용한다.\n",
    "\n",
    "참고: \n",
    "https://scikit-learn.org/stable/modules/classes.html#sklearn-metrics-metrics"
   ]
  },
  {
   "cell_type": "code",
   "execution_count": 20,
   "metadata": {
    "id": "qzMo2AwawIOf"
   },
   "outputs": [],
   "source": [
    "from sklearn.metrics import confusion_matrix, accuracy_score, precision_score, recall_score, f1_score\n",
    "from sklearn.metrics import roc_auc_score, average_precision_score\n",
    "\n",
    "# 모델을 평가하는 함수\n",
    "def get_clf_eval(y_test, pred=None, pred_proba=None):\n",
    "    accuracy = accuracy_score(y_test , pred)\n",
    "    precision = precision_score(y_test , pred)\n",
    "    recall = recall_score(y_test , pred)\n",
    "    f1 = f1_score(y_test,pred)\n",
    "    roc_auc = roc_auc_score(y_test, pred_proba)\n",
    "    ap = average_precision_score(y_test, pred_proba)\n",
    "    print(f\"AP: {ap:0.3f}, AUC: {roc_auc:0.3f}, F1: {f1:0.3f}\")\n",
    "\n",
    "    "
   ]
  },
  {
   "cell_type": "markdown",
   "metadata": {
    "id": "V2fXduhjCsHp"
   },
   "source": [
    "## 모델 생성, 학습, 평가"
   ]
  },
  {
   "cell_type": "code",
   "execution_count": 21,
   "metadata": {
    "colab": {
     "base_uri": "https://localhost:8080/"
    },
    "id": "2-5cUU8fEs8V",
    "outputId": "f076f387-e3e4-4585-d7ed-0572a539ec4b"
   },
   "outputs": [
    {
     "name": "stdout",
     "output_type": "stream",
     "text": [
      "Ran AP: 0.895, AUC: 0.973, F1: 0.890\n",
      "KNN AP: 0.775, AUC: 0.917, F1: 0.820\n",
      "Log AP: 0.866, AUC: 0.968, F1: 0.884\n",
      "GBC AP: 0.700, AUC: 0.964, F1: 0.831\n",
      "XGB AP: 0.904, AUC: 0.979, F1: 0.890\n",
      "LGB AP: 0.899, AUC: 0.974, F1: 0.903\n",
      "SVC AP: 0.849, AUC: 0.984, F1: 0.606\n",
      "Ada AP: 0.892, AUC: 0.955, F1: 0.866\n",
      "GNB AP: 0.506, AUC: 0.968, F1: 0.547\n",
      "Bag AP: 0.862, AUC: 0.948, F1: 0.882\n"
     ]
    }
   ],
   "source": [
    "models = {\n",
    "    \"Ran\":RandomForestClassifier(),\n",
    "    \"KNN\":KNeighborsClassifier(),\n",
    "    \"Log\":LogisticRegression(),\n",
    "    \"GBC\":GradientBoostingClassifier(),\n",
    "    \"XGB\":XGBClassifier(),\n",
    "    \"LGB\":LGBMClassifier(),\n",
    "    \"SVC\":SVC(probability=True),\n",
    "    \"Ada\":AdaBoostClassifier(),\n",
    "    \"GNB\":GaussianNB(),\n",
    "    \"Bag\":BaggingClassifier(),\n",
    "}\n",
    "\n",
    "\n",
    "for model_name, model in models.items():\n",
    "    print(model_name, end=\" \")\n",
    "    model.fit(X_train, y_train)\n",
    "    pred = model.predict(X_test)\n",
    "    pred_proba = model.predict_proba(X_test)[:, 1]\n",
    "    get_clf_eval(y_test, pred, pred_proba)\n",
    "    "
   ]
  },
  {
   "cell_type": "markdown",
   "metadata": {
    "id": "Kgq61UWtwIOf"
   },
   "source": [
    "### 중요 데이터 분포도 변환 후 모델 학습/예측/평가\n"
   ]
  },
  {
   "cell_type": "markdown",
   "metadata": {
    "id": "pnXnCriiwIOf"
   },
   "source": [
    "** 중요 feature의 분포도 확인 **"
   ]
  },
  {
   "cell_type": "code",
   "execution_count": 22,
   "metadata": {
    "colab": {
     "base_uri": "https://localhost:8080/",
     "height": 298
    },
    "id": "hYAzN7LdwIOf",
    "outputId": "880bb175-5b27-4f03-8688-614c7491338b"
   },
   "outputs": [
    {
     "data": {
      "text/plain": [
       "<matplotlib.axes._subplots.AxesSubplot at 0x7f25001040f0>"
      ]
     },
     "execution_count": 22,
     "metadata": {
      "tags": []
     },
     "output_type": "execute_result"
    },
    {
     "data": {
      "image/png": "[encoded data removed]",
      "text/plain": [
       "<Figure size 576x288 with 1 Axes>"
      ]
     },
     "metadata": {
      "needs_background": "light",
      "tags": []
     },
     "output_type": "display_data"
    }
   ],
   "source": [
    "import seaborn as sns\n",
    "\n",
    "plt.figure(figsize=(8, 4))\n",
    "sns.distplot(df_card['Amount'])"
   ]
  },
  {
   "cell_type": "markdown",
   "metadata": {
    "id": "EAK_g4V_wIOf"
   },
   "source": [
    "#### 1. StandardScaler를 이용하여 Amount 피처 변환"
   ]
  },
  {
   "cell_type": "code",
   "execution_count": 24,
   "metadata": {
    "colab": {
     "base_uri": "https://localhost:8080/",
     "height": 465
    },
    "id": "ulsK1WxwbKJi",
    "outputId": "e1515828-b463-49aa-c573-96490988cecc"
   },
   "outputs": [
    {
     "name": "stdout",
     "output_type": "stream",
     "text": [
      "Ran AP: 0.893, AUC: 0.973, F1: 0.890\n",
      "KNN AP: 0.841, AUC: 0.938, F1: 0.876\n",
      "Log AP: 0.871, AUC: 0.977, F1: 0.887\n",
      "GBC AP: 0.681, AUC: 0.964, F1: 0.832\n",
      "XGB AP: 0.904, AUC: 0.979, F1: 0.890\n",
      "LGB AP: 0.901, AUC: 0.974, F1: 0.900\n",
      "SVC AP: 0.842, AUC: 0.952, F1: 0.876\n",
      "Ada AP: 0.892, AUC: 0.955, F1: 0.866\n",
      "GNB AP: 0.508, AUC: 0.968, F1: 0.547\n",
      "Bag AP: 0.860, AUC: 0.938, F1: 0.884\n"
     ]
    },
    {
     "data": {
      "image/png": "[encoded data removed]",
      "text/plain": [
       "<Figure size 576x288 with 1 Axes>"
      ]
     },
     "metadata": {
      "needs_background": "light",
      "tags": []
     },
     "output_type": "display_data"
    }
   ],
   "source": [
    "df_copy = df_card.copy()\n",
    "scaler = StandardScaler()\n",
    "amount_n = scaler.fit_transform(df_copy['Amount'].values.reshape(-1, 1))\n",
    "\n",
    "# 변환된 Amount를 Amount_Scaled로 피처명 변경후 DataFrame맨 앞 컬럼으로 입력\n",
    "df_copy.insert(0, 'Amount_Scaled', amount_n)\n",
    "\n",
    "plt.figure(figsize=(8, 4))\n",
    "sns.distplot(df_copy['Amount_Scaled'])\n",
    "\n",
    "# 기존 Time, Amount 피처 삭제\n",
    "df_copy.drop(['Time','Amount'], axis=1, inplace=True)\n",
    "\n",
    "X_features = df_copy.iloc[:, :-1] #피처들의 모음, class 레이블만 빠짐\n",
    "y_target = df_copy.iloc[:, -1] #레이블 값만 존재 class\n",
    "\n",
    "# train_test_split( )으로 학습과 테스트 데이터 분할. stratify=y_target으로 Stratified 기반 분할\n",
    "#imbalanced data에는 stratify=y_target 옵션 필수 - 비율 맞춰줌\n",
    "X_train, X_test, y_train, y_test = train_test_split(X_features, y_target, test_size=0.3, random_state=0, stratify=y_target)\n",
    "\n",
    "\n",
    "# 모델 학습, 평가\n",
    "models = {\n",
    "    \"Ran\":RandomForestClassifier(),\n",
    "    \"KNN\":KNeighborsClassifier(),\n",
    "    \"Log\":LogisticRegression(),\n",
    "    \"GBC\":GradientBoostingClassifier(),\n",
    "    \"XGB\":XGBClassifier(),\n",
    "    \"LGB\":LGBMClassifier(),\n",
    "    \"SVC\":SVC(probability=True),\n",
    "    \"Ada\":AdaBoostClassifier(),\n",
    "    \"GNB\":GaussianNB(),\n",
    "    \"Bag\":BaggingClassifier(),\n",
    "}\n",
    "\n",
    "\n",
    "for model_name, model in models.items():\n",
    "    print(model_name, end=\" \")\n",
    "    model.fit(X_train, y_train)\n",
    "    pred = model.predict(X_test)\n",
    "    pred_proba = model.predict_proba(X_test)[:, 1]\n",
    "    get_clf_eval(y_test, pred, pred_proba)\n",
    "    "
   ]
  },
  {
   "cell_type": "markdown",
   "metadata": {
    "id": "J2Ko1OEbYYln"
   },
   "source": [
    "**Amount 표준화 - 큰 변화 없음**"
   ]
  },
  {
   "cell_type": "markdown",
   "metadata": {
    "id": "6uAoaeLaEmJQ"
   },
   "source": [
    "#### 2. 로그 변환을 Amount 피처 변환\n",
    "\n",
    "로그 변환을 하면 정규분포에 가까워진다.\n",
    "\n",
    "일반적으로 원본 값에 1을 더한 후 로그로 변환하는 것이 많이 사용된다.\n",
    "\n",
    "참고: https://rfriend.tistory.com/295\n",
    "\n",
    "치우쳐진 데이터 -> normal (정규) 분포로"
   ]
  },
  {
   "cell_type": "code",
   "execution_count": 25,
   "metadata": {
    "colab": {
     "base_uri": "https://localhost:8080/",
     "height": 465
    },
    "id": "yYBUn3wlewRI",
    "outputId": "d9dfb376-e280-4bb9-d519-c487bb5481d5"
   },
   "outputs": [
    {
     "name": "stdout",
     "output_type": "stream",
     "text": [
      "Ran AP: 0.898, AUC: 0.977, F1: 0.890\n",
      "KNN AP: 0.837, AUC: 0.938, F1: 0.876\n",
      "Log AP: 0.870, AUC: 0.976, F1: 0.890\n",
      "GBC AP: 0.689, AUC: 0.966, F1: 0.847\n",
      "XGB AP: 0.904, AUC: 0.979, F1: 0.890\n",
      "LGB AP: 0.899, AUC: 0.974, F1: 0.903\n",
      "SVC AP: 0.846, AUC: 0.956, F1: 0.876\n",
      "Ada AP: 0.892, AUC: 0.955, F1: 0.866\n",
      "GNB AP: 0.502, AUC: 0.969, F1: 0.540\n",
      "Bag AP: 0.875, AUC: 0.945, F1: 0.887\n"
     ]
    },
    {
     "data": {
      "image/png": "[encoded data removed]",
      "text/plain": [
       "<Figure size 576x288 with 1 Axes>"
      ]
     },
     "metadata": {
      "needs_background": "light",
      "tags": []
     },
     "output_type": "display_data"
    }
   ],
   "source": [
    "df_copy = df_card.copy()\n",
    "amount_n = np.log1p(df_copy['Amount']) #log1p - 1 더하고 로그 취하는 함수\n",
    "\n",
    "# 변환된 Amount를 Amount_Scaled로 피처명 변경후 DataFrame맨 앞 컬럼으로 입력\n",
    "df_copy.insert(0, 'Amount_Scaled', amount_n)\n",
    "\n",
    "# 기존 Time, Amount 피처 삭제\n",
    "df_copy.drop(['Time','Amount'], axis=1, inplace=True)\n",
    "\n",
    "plt.figure(figsize=(8, 4))\n",
    "sns.distplot(df_copy['Amount_Scaled'])\n",
    "\n",
    "X_features = df_copy.iloc[:, :-1] #피처들의 모음, class 레이블만 빠짐\n",
    "y_target = df_copy.iloc[:, -1] #레이블 값만 존재 class\n",
    "\n",
    "# train_test_split( )으로 학습과 테스트 데이터 분할. stratify=y_target으로 Stratified 기반 분할\n",
    "#imbalanced data에는 stratify=y_target 옵션 필수 - 비율 맞춰줌\n",
    "X_train, X_test, y_train, y_test = train_test_split(X_features, y_target, test_size=0.3, random_state=0, stratify=y_target)\n",
    "\n",
    "# 모델 학습, 평가\n",
    "models = {\n",
    "    \"Ran\":RandomForestClassifier(),\n",
    "    \"KNN\":KNeighborsClassifier(),\n",
    "    \"Log\":LogisticRegression(),\n",
    "    \"GBC\":GradientBoostingClassifier(),\n",
    "    \"XGB\":XGBClassifier(),\n",
    "    \"LGB\":LGBMClassifier(),\n",
    "    \"SVC\":SVC(probability=True),\n",
    "    \"Ada\":AdaBoostClassifier(),\n",
    "    \"GNB\":GaussianNB(),\n",
    "    \"Bag\":BaggingClassifier(),\n",
    "}\n",
    "\n",
    "\n",
    "for model_name, model in models.items():\n",
    "    print(model_name, end=\" \")\n",
    "    model.fit(X_train, y_train)\n",
    "    pred = model.predict(X_test)\n",
    "    pred_proba = model.predict_proba(X_test)[:, 1]\n",
    "    get_clf_eval(y_test, pred, pred_proba)\n",
    "    "
   ]
  },
  {
   "cell_type": "markdown",
   "metadata": {
    "id": "XtCTFLB9Y6ue"
   },
   "source": [
    "***Amount 로그 변환 -> 별 차이 없음***"
   ]
  },
  {
   "cell_type": "markdown",
   "metadata": {
    "id": "TFdnWU32wIOg"
   },
   "source": [
    "### 이상치 데이터 제거 후 모델 학습/예측/평가"
   ]
  },
  {
   "cell_type": "markdown",
   "metadata": {
    "id": "H4yDElW7wIOg"
   },
   "source": [
    "** 각 피처들의 상관 관계를 시각화. 결정 레이블인 class 값과 가장 상관도가 높은 피처 추출 **"
   ]
  },
  {
   "cell_type": "code",
   "execution_count": 26,
   "metadata": {
    "colab": {
     "base_uri": "https://localhost:8080/",
     "height": 588
    },
    "id": "_FCBPBecwIOg",
    "outputId": "8c2cfe79-6615-43a7-b5c2-d2c3ebdbdb77"
   },
   "outputs": [
    {
     "data": {
      "text/plain": [
       "<matplotlib.axes._subplots.AxesSubplot at 0x7f25013e4828>"
      ]
     },
     "execution_count": 26,
     "metadata": {
      "tags": []
     },
     "output_type": "execute_result"
    },
    {
     "data": {
      "image/png": "[encoded data removed]",
      "text/plain": [
       "<Figure size 648x648 with 2 Axes>"
      ]
     },
     "metadata": {
      "needs_background": "light",
      "tags": []
     },
     "output_type": "display_data"
    }
   ],
   "source": [
    "plt.figure(figsize=(9, 9))\n",
    "corr = df_card.corr()\n",
    "sns.heatmap(corr, cmap='RdBu')"
   ]
  },
  {
   "cell_type": "markdown",
   "metadata": {
    "id": "mtrvr7GWwIOg"
   },
   "source": [
    "** Dataframe에서 outlier에 해당하는 데이터를 필터링하기 위한 함수 생성. outlier 레코드의 index를 반환함. **\n",
    "\n",
    "참고: IQR을 이용하여 이상치 제거\n",
    "\n",
    "https://hwi-doc.tistory.com/entry/IQR-%EB%B0%A9%EC%8B%9D%EC%9D%84-%EC%9D%B4%EC%9A%A9%ED%95%9C-%EC%9D%B4%EC%83%81%EC%B9%98-%EB%8D%B0%EC%9D%B4%ED%84%B0Outlier-%EC%A0%9C%EA%B1%B0"
   ]
  },
  {
   "cell_type": "code",
   "execution_count": 27,
   "metadata": {
    "id": "im0Igdz6wIOg"
   },
   "outputs": [],
   "source": [
    "def get_outlier(df=None, column=None, weight=1.5):\n",
    "    # fraud에 해당하는 column 데이터만 추출, 1/4 분위와 3/4 분위 지점을 np.percentile로 구함. \n",
    "    sns.boxplot(x=\"Class\", y=column, data=df)\n",
    "    fraud = df[df['Class']==1][column]\n",
    "    quantile_25 = np.percentile(fraud.values, 25)\n",
    "    quantile_75 = np.percentile(fraud.values, 75)\n",
    "    \n",
    "    # IQR을 구하고, IQR에 1.5를 곱하여 최대값과 최소값 지점 구함. \n",
    "    iqr = quantile_75 - quantile_25\n",
    "    iqr_weight = iqr * weight\n",
    "    lowest_val = quantile_25 - iqr_weight\n",
    "    highest_val = quantile_75 + iqr_weight\n",
    "    \n",
    "    # 최대값 보다 크거나, 최소값 보다 작은 값을 아웃라이어로 설정하고 DataFrame index 반환. \n",
    "    outlier_index = fraud[(fraud < lowest_val) | (fraud > highest_val)].index\n",
    "    \n",
    "    return outlier_index\n",
    "    "
   ]
  },
  {
   "cell_type": "code",
   "execution_count": 34,
   "metadata": {
    "colab": {
     "base_uri": "https://localhost:8080/"
    },
    "id": "n8nU8gNMwIOg",
    "outputId": "77873853-eb96-4110-8e66-04bca2dfe859"
   },
   "outputs": [
    {
     "data": {
      "text/plain": [
       "0.03951822742964395"
      ]
     },
     "execution_count": 34,
     "metadata": {
      "tags": []
     },
     "output_type": "execute_result"
    }
   ],
   "source": [
    "np.percentile(df_card['V14'].values, 50) #중앙값 (50%에 위치한 값), 0이면 최소값, 100이면 최대값"
   ]
  },
  {
   "cell_type": "code",
   "execution_count": 35,
   "metadata": {
    "colab": {
     "base_uri": "https://localhost:8080/",
     "height": 298
    },
    "id": "gKOKqkdGwIOg",
    "outputId": "6243f814-6a13-4ece-c5c8-ca190c677e8e"
   },
   "outputs": [
    {
     "name": "stdout",
     "output_type": "stream",
     "text": [
      "이상치 데이터 인덱스: Int64Index([3200, 5183, 14010, 22170], dtype='int64')\n"
     ]
    },
    {
     "data": {
      "image/png": "[encoded data removed]",
      "text/plain": [
       "<Figure size 432x288 with 1 Axes>"
      ]
     },
     "metadata": {
      "needs_background": "light",
      "tags": []
     },
     "output_type": "display_data"
    }
   ],
   "source": [
    "outlier_index = get_outlier(df=df_card, column='V14', weight=1.5)\n",
    "print('이상치 데이터 인덱스:', outlier_index)"
   ]
  },
  {
   "cell_type": "markdown",
   "metadata": {
    "id": "U5KBco4IfFDp"
   },
   "source": [
    "class 1이 중요"
   ]
  },
  {
   "cell_type": "markdown",
   "metadata": {
    "id": "UNSazf51HRc1"
   },
   "source": [
    "#### 이상치 제거후 모델 학습"
   ]
  },
  {
   "cell_type": "code",
   "execution_count": 36,
   "metadata": {
    "colab": {
     "base_uri": "https://localhost:8080/",
     "height": 464
    },
    "id": "DeDK_gO2pGzs",
    "outputId": "78d38077-a2d7-404b-ebb0-c61e9b5c9bff"
   },
   "outputs": [
    {
     "name": "stdout",
     "output_type": "stream",
     "text": [
      "Ran AP: 0.894, AUC: 0.972, F1: 0.896\n",
      "KNN AP: 0.850, AUC: 0.948, F1: 0.883\n",
      "Log AP: 0.876, AUC: 0.985, F1: 0.876\n",
      "GBC AP: 0.744, AUC: 0.979, F1: 0.859\n",
      "XGB AP: 0.921, AUC: 0.988, F1: 0.890\n",
      "LGB AP: 0.926, AUC: 0.987, F1: 0.903\n",
      "SVC AP: 0.855, AUC: 0.953, F1: 0.857\n",
      "Ada AP: 0.902, AUC: 0.985, F1: 0.874\n",
      "GNB AP: 0.503, AUC: 0.968, F1: 0.540\n",
      "Bag AP: 0.861, AUC: 0.950, F1: 0.875\n"
     ]
    },
    {
     "data": {
      "image/png": "[encoded data removed]",
      "text/plain": [
       "<Figure size 432x288 with 1 Axes>"
      ]
     },
     "metadata": {
      "needs_background": "light",
      "tags": []
     },
     "output_type": "display_data"
    }
   ],
   "source": [
    "df_copy = df_card.copy()\n",
    "amount_n = np.log1p(df_copy['Amount']) #로그변환 사용\n",
    "\n",
    "# 변환된 Amount를 Amount_Scaled로 피처명 변경후 DataFrame맨 앞 컬럼으로 입력\n",
    "df_copy.insert(0, 'Amount_Scaled', amount_n)\n",
    "\n",
    "# 기존 Time, Amount 피처 삭제\n",
    "df_copy.drop(['Time','Amount'], axis=1, inplace=True)\n",
    "\n",
    "# 아웃라이어 제거\n",
    "outlier_index = get_outlier(df=df_copy, column='V14', weight=1.5)\n",
    "df_copy.drop(outlier_index, axis=0, inplace=True) #drop할 때 axis=0 : 행을 제거\n",
    "\n",
    "# train_test_split() 함수를 이용하여 데이터를 나눈다.\n",
    "X_features = df_copy.iloc[:, :-1]\n",
    "y_target = df_copy.iloc[:, -1]\n",
    "# train_test_split( )으로 학습과 테스트 데이터 분할. stratify=y_target으로 Stratified 기반 분할\n",
    "X_train, X_test, y_train, y_test = train_test_split(X_features, y_target, test_size=0.3, random_state=0, stratify=y_target)\n",
    "\n",
    "# 모델 학습, 평가\n",
    "models = {\n",
    "    \"Ran\":RandomForestClassifier(),\n",
    "    \"KNN\":KNeighborsClassifier(),\n",
    "    \"Log\":LogisticRegression(),\n",
    "    \"GBC\":GradientBoostingClassifier(),\n",
    "    \"XGB\":XGBClassifier(),\n",
    "    \"LGB\":LGBMClassifier(),\n",
    "    \"SVC\":SVC(probability=True),\n",
    "    \"Ada\":AdaBoostClassifier(),\n",
    "    \"GNB\":GaussianNB(),\n",
    "    \"Bag\":BaggingClassifier(),\n",
    "}\n",
    "\n",
    "\n",
    "for model_name, model in models.items():\n",
    "    print(model_name, end=\" \")\n",
    "    model.fit(X_train, y_train)\n",
    "    pred = model.predict(X_test)\n",
    "    pred_proba = model.predict_proba(X_test)[:, 1]\n",
    "    get_clf_eval(y_test, pred, pred_proba)"
   ]
  },
  {
   "cell_type": "markdown",
   "metadata": {
    "id": "vMwPb8h64ZcB"
   },
   "source": [
    "### SMOTE 오버 샘플링 적용 후 모델 학습/예측/평가\n",
    "\n",
    "** 샘플 불균형을 제거하는 방법중 하나"
   ]
  },
  {
   "cell_type": "code",
   "execution_count": 37,
   "metadata": {
    "colab": {
     "base_uri": "https://localhost:8080/",
     "height": 464
    },
    "id": "mhtrYN4MsL5L",
    "outputId": "3c80c82b-0abb-4cce-f07d-81a88368924c"
   },
   "outputs": [
    {
     "name": "stdout",
     "output_type": "stream",
     "text": [
      "Ran AP: 0.924, AUC: 0.986, F1: 0.883\n",
      "KNN AP: 0.692, AUC: 0.959, F1: 0.665\n",
      "Log AP: 0.859, AUC: 0.985, F1: 0.523\n",
      "GBC AP: 0.904, AUC: 0.989, F1: 0.687\n",
      "XGB AP: 0.903, AUC: 0.987, F1: 0.702\n",
      "LGB AP: 0.928, AUC: 0.989, F1: 0.862\n",
      "SVC AP: 0.877, AUC: 0.987, F1: 0.696\n",
      "Ada AP: 0.887, AUC: 0.982, F1: 0.591\n",
      "GNB AP: 0.497, AUC: 0.969, F1: 0.523\n",
      "Bag AP: 0.823, AUC: 0.967, F1: 0.785\n"
     ]
    },
    {
     "data": {
      "image/png": "[encoded data removed]",
      "text/plain": [
       "<Figure size 432x288 with 1 Axes>"
      ]
     },
     "metadata": {
      "needs_background": "light",
      "tags": []
     },
     "output_type": "display_data"
    }
   ],
   "source": [
    "df_copy = df_card.copy()\n",
    "amount_n = np.log1p(df_copy['Amount'])\n",
    "\n",
    "# 변환된 Amount를 Amount_Scaled로 피처명 변경후 DataFrame맨 앞 컬럼으로 입력\n",
    "df_copy.insert(0, 'Amount_Scaled', amount_n)\n",
    "\n",
    "# 기존 Time, Amount 피처 삭제\n",
    "df_copy.drop(['Time','Amount'], axis=1, inplace=True)\n",
    "\n",
    "# 아웃라이어 제거\n",
    "outlier_index = get_outlier(df=df_copy, column='V14', weight=1.5)\n",
    "df_copy.drop(outlier_index, axis=0, inplace=True)\n",
    "\n",
    "# train_test_split() 함수를 이용하여 데이터를 나눈다.\n",
    "X_features = df_copy.iloc[:, :-1]\n",
    "y_target = df_copy.iloc[:, -1]\n",
    "\n",
    "# train_test_split( )으로 학습과 테스트 데이터 분할. stratify=y_target으로 Stratified 기반 분할\n",
    "X_train, X_test, y_train, y_test = train_test_split(X_features, y_target, test_size=0.3, random_state=0, stratify=y_target)\n",
    "\n",
    "# SMOTE 오버 샘플링\n",
    "from imblearn.over_sampling import SMOTE\n",
    "smote = SMOTE(random_state=0)\n",
    "X_train_over, y_train_over = smote.fit_sample(X_train, y_train)\n",
    "X_test = X_test.to_numpy() # SMOTE를 수행하고 나면, numpy 객체가 되기 때문에, X_test 역시 numpy 객체로 변환\n",
    "\n",
    "models = {\n",
    "    \"Ran\":RandomForestClassifier(),\n",
    "    \"KNN\":KNeighborsClassifier(),\n",
    "    \"Log\":LogisticRegression(),\n",
    "    \"GBC\":GradientBoostingClassifier(),\n",
    "    \"XGB\":XGBClassifier(),\n",
    "    \"LGB\":LGBMClassifier(),\n",
    "    \"SVC\":SVC(probability=True),\n",
    "    \"Ada\":AdaBoostClassifier(),\n",
    "    \"GNB\":GaussianNB(),\n",
    "    \"Bag\":BaggingClassifier(),\n",
    "}\n",
    "\n",
    "\n",
    "for model_name, model in models.items():\n",
    "    print(model_name, end=\" \")\n",
    "    model.fit(X_train_over, y_train_over) # 오버 샘플링된 데이터로 학습\n",
    "    pred = model.predict(X_test)\n",
    "    pred_proba = model.predict_proba(X_test)[:, 1]\n",
    "    get_clf_eval(y_test, pred, pred_proba)"
   ]
  }
 ],
 "metadata": {
  "colab": {
   "collapsed_sections": [],
   "name": "fraud_creadit_김수현_18016019.ipynb",
   "provenance": []
  },
  "kernelspec": {
   "display_name": "Python 3",
   "language": "python",
   "name": "python3"
  },
  "language_info": {
   "codemirror_mode": {
    "name": "ipython",
    "version": 3
   },
   "file_extension": ".py",
   "mimetype": "text/x-python",
   "name": "python",
   "nbconvert_exporter": "python",
   "pygments_lexer": "ipython3",
   "version": "3.8.5"
  },
  "toc": {
   "base_numbering": 1,
   "nav_menu": {},
   "number_sections": true,
   "sideBar": true,
   "skip_h1_title": false,
   "title_cell": "Table of Contents",
   "title_sidebar": "Contents",
   "toc_cell": false,
   "toc_position": {},
   "toc_section_display": true,
   "toc_window_display": false
  },
  "varInspector": {
   "cols": {
    "lenName": 16,
    "lenType": 16,
    "lenVar": 40
   },
   "kernels_config": {
    "python": {
     "delete_cmd_postfix": "",
     "delete_cmd_prefix": "del ",
     "library": "var_list.py",
     "varRefreshCmd": "print(var_dic_list())"
    },
    "r": {
     "delete_cmd_postfix": ") ",
     "delete_cmd_prefix": "rm(",
     "library": "var_list.r",
     "varRefreshCmd": "cat(var_dic_list()) "
    }
   },
   "types_to_exclude": [
    "module",
    "function",
    "builtin_function_or_method",
    "instance",
    "_Feature"
   ],
   "window_display": false
  }
 },
 "nbformat": 4,
 "nbformat_minor": 1
}
